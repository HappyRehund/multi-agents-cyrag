{
 "cells": [
  {
   "cell_type": "code",
   "execution_count": 31,
   "id": "ba5ff84c",
   "metadata": {},
   "outputs": [],
   "source": [
    "from langchain_community.graphs import OntotextGraphDBGraph\n",
    "from langchain.chains.graph_qa.ontotext_graphdb import OntotextGraphDBQAChain\n",
    "from langchain_core.prompts import PromptTemplate\n",
    "from langchain_openai import ChatOpenAI\n",
    "from IPython.display import display, Markdown\n",
    "\n",
    "import os"
   ]
  },
  {
   "cell_type": "code",
   "execution_count": 71,
   "id": "93aff582",
   "metadata": {},
   "outputs": [],
   "source": [
    "OPENAI_API_KEY = os.environ.get(\"OPENAI_API_KEY\")\n",
    "llm = ChatOpenAI(\n",
    "    model=\"gpt-4o\",\n",
    "    api_key=OPENAI_API_KEY\n",
    ")\n"
   ]
  },
  {
   "cell_type": "code",
   "execution_count": 33,
   "id": "c48695d3",
   "metadata": {},
   "outputs": [],
   "source": [
    "os.environ[\"GRAPHDB_USERNAME\"] = os.environ.get(\"GRAPHDB_USERNAME\")\n",
    "os.environ[\"GRAPHDB_PASSWORD\"] = os.environ.get(\"GRAPHDB_PASSWORD\")"
   ]
  },
  {
   "cell_type": "code",
   "execution_count": 52,
   "id": "6034b1e7",
   "metadata": {},
   "outputs": [],
   "source": [
    "graph = OntotextGraphDBGraph(\n",
    "    query_endpoint=\"http://localhost:7200/repositories/cykg-rag-1\",\n",
    "    query_ontology=\"\"\"\n",
    "    PREFIX rdfs: <http://www.w3.org/2000/01/rdf-schema#>\n",
    "    PREFIX owl: <http://www.w3.org/2002/07/owl#>\n",
    "    PREFIX rdf: <http://www.w3.org/1999/02/22-rdf-syntax-ns#>\n",
    "\n",
    "    CONSTRUCT {\n",
    "        ?entity a ?type .\n",
    "        ?subClass rdfs:subClassOf ?superClass .\n",
    "        ?subProperty rdfs:subPropertyOf ?superProperty .\n",
    "        ?property rdfs:domain ?domain .\n",
    "        ?property rdfs:range ?range .\n",
    "    }\n",
    "    WHERE {\n",
    "      {\n",
    "        ?entity a ?type .\n",
    "        FILTER(?type IN (owl:Class, rdfs:Class, owl:ObjectProperty, owl:DatatypeProperty, rdf:Property))\n",
    "      }\n",
    "      UNION\n",
    "      {\n",
    "        ?subClass rdfs:subClassOf ?superClass .\n",
    "        FILTER (?subClass != ?superClass)\n",
    "      }\n",
    "      UNION\n",
    "      {\n",
    "        ?subProperty rdfs:subPropertyOf ?superProperty .\n",
    "        FILTER (?subProperty != ?superProperty)\n",
    "      }\n",
    "      UNION\n",
    "      {\n",
    "        ?property rdfs:domain ?domain .\n",
    "      }\n",
    "      UNION\n",
    "      {\n",
    "        ?property rdfs:range ?range .\n",
    "      }\n",
    "    }\n",
    "    \"\"\",\n",
    ")"
   ]
  },
  {
   "cell_type": "code",
   "execution_count": null,
   "id": "ec4974ca",
   "metadata": {},
   "outputs": [],
   "source": [
    "# graph = OntotextGraphDBGraph(\n",
    "#     query_endpoint=\"http://localhost:7200/repositories/cykg-rag-1\",\n",
    "#     local_file=\"../ontology/attack_ics_ontology.ttl\",\n",
    "# )"
   ]
  },
  {
   "cell_type": "code",
   "execution_count": 62,
   "id": "144a1cf3",
   "metadata": {},
   "outputs": [],
   "source": [
    "COMMON_PREFIXES = \"\"\"\n",
    "PREFIX dcterms: <http://purl.org/dc/terms/>\n",
    "PREFIX attack: <http://w3id.org/sepses/vocab/ref/attack#>\n",
    "PREFIX rdfs: <http://www.w3.org/2000/01/rdf-schema#>\n",
    "PREFIX rdf: <http://www.w3.org/1999/02/22-rdf-syntax-ns#>\n",
    "\"\"\""
   ]
  },
  {
   "cell_type": "code",
   "execution_count": 82,
   "id": "3c4cbda3",
   "metadata": {},
   "outputs": [],
   "source": [
    "# Ganti template lama Anda dengan yang ini\n",
    "GRAPHDB_SPARQL_GENERATION_TEMPLATE = f\"\"\"\n",
    "You are an expert SPARQL query generator. Your task is to write a precise and correct SPARQL SELECT query for a graph database based on the provided schema and question.\n",
    "\n",
    "**VERY IMPORTANT RULES:**\n",
    "1.  **ALWAYS use `dcterms:title` to find an entity by its name.** This is the most critical rule. For example: `?tactic dcterms:title \"Initial Access\"`.\n",
    "2.  **NEVER try to guess an entity's URI.** Always find it by its `dcterms:title`.\n",
    "3.  Use the `attack:hasTechnique` property to link a Tactic to its Techniques.\n",
    "4.  Only output the raw SPARQL query without explanations or backticks.\n",
    "\n",
    "**COMMON PREFIXES YOU SHOULD USE:**\n",
    "{COMMON_PREFIXES}\n",
    "\n",
    "**ONTOLOGY SCHEMA:**\n",
    "{{schema}}\n",
    "\n",
    "**QUESTION:**\n",
    "{{prompt}}\n",
    "\n",
    "---\n",
    "**EXAMPLES OF GOOD SPARQL QUERIES:**\n",
    "\n",
    "**Example 1: Listing entities**\n",
    "Question: \"can you tell me all the techniques under Initial Access?\"\n",
    "SPARQL Query:\n",
    "PREFIX dcterms: <http://purl.org/dc/terms/>\n",
    "PREFIX attack: <http://w3id.org/sepses/vocab/ref/attack#>\n",
    "SELECT ?techniqueName\n",
    "WHERE {{\n",
    "  # First, find the Tactic by its exact title\n",
    "  ?tactic a attack:Tactic ;\n",
    "          dcterms:title \"Initial Access\" .\n",
    "  \n",
    "  # Then, find all techniques related to that tactic\n",
    "  ?tactic attack:hasTechnique ?technique .\n",
    "  \n",
    "  # Finally, get the name of each technique\n",
    "  ?technique dcterms:title ?techniqueName .\n",
    "}}\n",
    "ORDER BY ?techniqueName\n",
    "\n",
    "**Example 2: Counting entities**\n",
    "Question: \"how many techniques for 'Initial Access'\"\n",
    "SPARQL Query:\n",
    "PREFIX dcterms: <http://purl.org/dc/terms/>\n",
    "PREFIX attack: <http://w3id.org/sepses/vocab/ref/attack#>\n",
    "SELECT (COUNT(?technique) as ?techniqueCount)\n",
    "WHERE {{\n",
    "  # First, find the Tactic by its exact title\n",
    "  ?tactic a attack:Tactic ;\n",
    "          dcterms:title \"Initial Access\" .\n",
    "  \n",
    "  # Then, find and count all techniques related to that tactic\n",
    "  ?tactic attack:hasTechnique ?technique .\n",
    "}}\n",
    "\"\"\"\n",
    "\n",
    "GRAPHDB_SPARQL_GENERATION_PROMPT = PromptTemplate(\n",
    "    input_variables=[\"schema\", \"prompt\"],\n",
    "    template=GRAPHDB_SPARQL_GENERATION_TEMPLATE,\n",
    ")\n",
    "\n",
    "# Pastikan Anda meneruskan prompt yang sudah diperbarui ke chain Anda.\n",
    "# Panggil kembali fungsi query_graph Anda dengan prompt baru ini."
   ]
  },
  {
   "cell_type": "code",
   "execution_count": 78,
   "id": "62fafd0d",
   "metadata": {},
   "outputs": [],
   "source": [
    "GRAPHDB_QA_TEMPLATE = \"\"\"Task: Generate a natural language response from the results of a SPARQL query.\n",
    "  You are an assistant that creates well-written and human understandable answers.\n",
    "  The information part contains the information provided, which you can use to construct an answer.\n",
    "  The information provided is authoritative, you must never doubt it or try to use your internal knowledge to correct it.\n",
    "  Make your response sound like the information is coming from an AI assistant, but don't add any information.\n",
    "  Don't use internal knowledge to answer the question, just say you don't know if no information is available.\n",
    "  Information:\n",
    "  {context}\n",
    "  \n",
    "  Question: {prompt}\n",
    "  Helpful Answer:\"\"\"\n",
    "GRAPHDB_QA_PROMPT = PromptTemplate(\n",
    "      input_variables=[\"context\", \"prompt\"], template=GRAPHDB_QA_TEMPLATE\n",
    "  )"
   ]
  },
  {
   "cell_type": "code",
   "execution_count": 79,
   "id": "921a350d",
   "metadata": {},
   "outputs": [],
   "source": [
    "def query_graph(user_input):\n",
    "    chain = OntotextGraphDBQAChain.from_llm(\n",
    "        llm=llm,\n",
    "        graph=graph,\n",
    "        verbose=True,\n",
    "        return_intermediate_steps=True, \n",
    "        sparql_prompt =GRAPHDB_SPARQL_GENERATION_PROMPT,\n",
    "        qa_prompt=GRAPHDB_QA_PROMPT,\n",
    "        allow_dangerous_requests=True,  # Set to True to allow dangerous requests\n",
    "        )\n",
    "    result = chain.invoke(user_input)\n",
    "    return result\n"
   ]
  },
  {
   "cell_type": "code",
   "execution_count": 83,
   "id": "39476804",
   "metadata": {},
   "outputs": [],
   "source": [
    "query_1 = \"can you tell me all the techniques under Initial Access?\"\n",
    "query_2 = \"how many techniques for 'Initial Access'\"\n",
    "query_3 = \"Show 5 available tactics in the database\"\n",
    "query_4 = \"List 10 MITRE ATT&CK Techniques\""
   ]
  },
  {
   "cell_type": "code",
   "execution_count": 84,
   "id": "9ec6eaea",
   "metadata": {},
   "outputs": [
    {
     "name": "stdout",
     "output_type": "stream",
     "text": [
      "\n",
      "\n",
      "\u001b[1m> Entering new OntotextGraphDBQAChain chain...\u001b[0m\n",
      "Generated SPARQL:\n",
      "\u001b[32;1m\u001b[1;3mPREFIX owl: <http://www.w3.org/2002/07/owl#>\n",
      "PREFIX rdf: <http://www.w3.org/1999/02/22-rdf-syntax-ns#>\n",
      "PREFIX rdfs: <http://www.w3.org/2000/01/rdf-schema#>\n",
      "PREFIX attack: <http://w3id.org/sepses/vocab/ref/attack#>\n",
      "\n",
      "SELECT ?tactic\n",
      "WHERE {\n",
      "  ?tactic rdf:type attack:Tactic .\n",
      "}\n",
      "LIMIT 5\u001b[0m\n",
      "\n",
      "\u001b[1m> Finished chain.\u001b[0m\n"
     ]
    },
    {
     "data": {
      "text/plain": [
       "{'query': 'Show 5 available tactics in the database',\n",
       " 'result': 'Here are five available tactics in the database:\\n\\n1. Discovery\\n2. Execution\\n3. Inhibit-response-function\\n4. Impact\\n5. Evasion'}"
      ]
     },
     "execution_count": 84,
     "metadata": {},
     "output_type": "execute_result"
    }
   ],
   "source": [
    "query_graph(query_3)\n"
   ]
  }
 ],
 "metadata": {
  "kernelspec": {
   "display_name": "multi-agents-rag-cykg",
   "language": "python",
   "name": "python3"
  },
  "language_info": {
   "codemirror_mode": {
    "name": "ipython",
    "version": 3
   },
   "file_extension": ".py",
   "mimetype": "text/x-python",
   "name": "python",
   "nbconvert_exporter": "python",
   "pygments_lexer": "ipython3",
   "version": "3.12.7"
  }
 },
 "nbformat": 4,
 "nbformat_minor": 5
}
