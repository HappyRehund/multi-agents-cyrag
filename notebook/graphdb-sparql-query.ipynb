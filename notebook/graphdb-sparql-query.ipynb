{
 "cells": [
  {
   "cell_type": "code",
   "execution_count": 19,
   "id": "ba5ff84c",
   "metadata": {},
   "outputs": [],
   "source": [
    "from langchain_community.graphs import OntotextGraphDBGraph\n",
    "from langchain.chains.graph_qa.ontotext_graphdb import OntotextGraphDBQAChain\n",
    "from langchain_core.prompts import PromptTemplate\n",
    "from langchain_openai import ChatOpenAI\n",
    "from IPython.display import display, Markdown\n",
    "\n",
    "import os"
   ]
  },
  {
   "cell_type": "code",
   "execution_count": 3,
   "id": "93aff582",
   "metadata": {},
   "outputs": [],
   "source": [
    "OPENAI_API_KEY = os.environ.get(\"OPENAI_API_KEY\")\n",
    "llm = ChatOpenAI(\n",
    "    model=\"gpt-4o\",\n",
    "    temperature=0,\n",
    "    api_key=OPENAI_API_KEY\n",
    ")\n"
   ]
  },
  {
   "cell_type": "code",
   "execution_count": 4,
   "id": "c48695d3",
   "metadata": {},
   "outputs": [],
   "source": [
    "os.environ[\"GRAPHDB_USERNAME\"] = os.environ.get(\"GRAPHDB_USERNAME\")\n",
    "os.environ[\"GRAPHDB_PASSWORD\"] = os.environ.get(\"GRAPHDB_PASSWORD\")"
   ]
  },
  {
   "cell_type": "code",
   "execution_count": null,
   "id": "6034b1e7",
   "metadata": {},
   "outputs": [],
   "source": [
    "graph = OntotextGraphDBGraph(\n",
    "    query_endpoint=\"http://localhost:7200/repositories/cykg-rag-1\",\n",
    "    query_ontology=\"\"\"\n",
    "    PREFIX rdfs: <http://www.w3.org/2000/01/rdf-schema#>\n",
    "    PREFIX owl: <http://www.w3.org/2002/07/owl#>\n",
    "    PREFIX rdf: <http://www.w3.org/1999/02/22-rdf-syntax-ns#>\n",
    "\n",
    "    CONSTRUCT {\n",
    "        ?entity a ?type .\n",
    "        ?subClass rdfs:subClassOf ?superClass .\n",
    "        ?subProperty rdfs:subPropertyOf ?superProperty .\n",
    "        ?property rdfs:domain ?domain .\n",
    "        ?property rdfs:range ?range .\n",
    "    }\n",
    "    WHERE {\n",
    "      {\n",
    "        ?entity a ?type .\n",
    "        FILTER(?type IN (owl:Class, rdfs:Class, owl:ObjectProperty, owl:DatatypeProperty, rdf:Property))\n",
    "      }\n",
    "      UNION\n",
    "      {\n",
    "        ?subClass rdfs:subClassOf ?superClass .\n",
    "        FILTER (?subClass != ?superClass)\n",
    "      }\n",
    "      UNION\n",
    "      {\n",
    "        ?subProperty rdfs:subPropertyOf ?superProperty .\n",
    "        FILTER (?subProperty != ?superProperty)\n",
    "      }\n",
    "      UNION\n",
    "      {\n",
    "        ?property rdfs:domain ?domain .\n",
    "      }\n",
    "      UNION\n",
    "      {\n",
    "        ?property rdfs:range ?range .\n",
    "      }\n",
    "    }\n",
    "    \"\"\",\n",
    ")"
   ]
  },
  {
   "cell_type": "code",
   "execution_count": 49,
   "id": "7929477f",
   "metadata": {},
   "outputs": [
    {
     "data": {
      "text/plain": [
       "'@prefix dc: <http://purl.org/dc/elements/1.1/> .\\n@prefix dcterms: <http://purl.org/dc/terms/> .\\n@prefix owl: <http://www.w3.org/2002/07/owl#> .\\n@prefix rdf: <http://www.w3.org/1999/02/22-rdf-syntax-ns#> .\\n@prefix rdfs: <http://www.w3.org/2000/01/rdf-schema#> .\\n@prefix vann: <http://purl.org/vocab/vann/> .\\n@prefix xsd: <http://www.w3.org/2001/XMLSchema#> .\\n\\nrdf:XMLLiteral a rdfs:Class ;\\n    rdfs:subClassOf rdfs:Literal .\\n\\nxsd:nonNegativeInteger a rdfs:Class .\\n\\nxsd:string a rdfs:Class .\\n\\n<http://proton.semanticweb.org/protonsys#transitiveOver> a rdf:Property .\\n\\ndc:creator a rdf:Property .\\n\\ndc:description a rdf:Property .\\n\\ndc:rights a rdf:Property .\\n\\ndc:title a rdf:Property .\\n\\ndcterms:contributor a rdf:Property .\\n\\ndcterms:created a rdf:Property .\\n\\ndcterms:description a rdf:Property .\\n\\ndcterms:identifier a rdf:Property .\\n\\ndcterms:modified a rdf:Property .\\n\\ndcterms:title a rdf:Property .\\n\\ndcterms:version a rdf:Property .\\n\\nvann:preferredNamespacePrefix a rdf:Property .\\n\\n<http://w3id.org/sepses/vocab/ref/attack#Campaign> a owl:Class ;\\n    rdfs:subClassOf owl:Thing .\\n\\n<http://w3id.org/sepses/vocab/ref/attack#DataComponent> a owl:Class ;\\n    rdfs:subClassOf owl:Thing .\\n\\n<http://w3id.org/sepses/vocab/ref/attack#DataSource> a owl:Class ;\\n    rdfs:subClassOf owl:Thing .\\n\\n<http://w3id.org/sepses/vocab/ref/attack#SubTechnique> a owl:Class ;\\n    rdfs:subClassOf <http://w3id.org/sepses/vocab/ref/attack#Technique>,\\n        owl:Thing .\\n\\n<http://w3id.org/sepses/vocab/ref/attack#accomplishesTactic> a rdf:Property,\\n        owl:ObjectProperty ;\\n    rdfs:domain <http://w3id.org/sepses/vocab/ref/attack#Technique> ;\\n    rdfs:range <http://w3id.org/sepses/vocab/ref/attack#Tactic> .\\n\\n<http://w3id.org/sepses/vocab/ref/attack#aliases> a rdf:Property,\\n        owl:DatatypeProperty ;\\n    rdfs:domain <http://w3id.org/sepses/vocab/ref/attack#AdversaryGroup> ;\\n    rdfs:range xsd:string .\\n\\n<http://w3id.org/sepses/vocab/ref/attack#associatedGroup> a owl:ObjectProperty ;\\n    rdfs:domain <http://w3id.org/sepses/vocab/ref/attack#Technique> ;\\n    rdfs:range <http://w3id.org/sepses/vocab/ref/attack#AdversaryGroup> .\\n\\n<http://w3id.org/sepses/vocab/ref/attack#dataSource> a rdf:Property,\\n        owl:DatatypeProperty ;\\n    rdfs:domain <http://w3id.org/sepses/vocab/ref/attack#Technique> ;\\n    rdfs:range xsd:string .\\n\\n<http://w3id.org/sepses/vocab/ref/attack#detection> a rdf:Property,\\n        owl:DatatypeProperty ;\\n    rdfs:domain <http://w3id.org/sepses/vocab/ref/attack#Technique> ;\\n    rdfs:range xsd:string .\\n\\n<http://w3id.org/sepses/vocab/ref/attack#detectsTechnique> a rdf:Property .\\n\\n<http://w3id.org/sepses/vocab/ref/attack#hasAdversaryGroup> a owl:ObjectProperty ;\\n    rdfs:domain <http://w3id.org/sepses/vocab/ref/attack#Malware> ;\\n    rdfs:range <http://w3id.org/sepses/vocab/ref/attack#AdversaryGroup> .\\n\\n<http://w3id.org/sepses/vocab/ref/attack#hasCAPEC> a owl:ObjectProperty ;\\n    rdfs:domain <http://w3id.org/sepses/vocab/ref/attack#Technique> ;\\n    rdfs:range <http://w3id.org/sepses/vocab/ref/capec#CAPEC> .\\n\\n<http://w3id.org/sepses/vocab/ref/attack#hasCampaign> a rdf:Property .\\n\\n<http://w3id.org/sepses/vocab/ref/attack#hasGroup> a rdf:Property .\\n\\n<http://w3id.org/sepses/vocab/ref/attack#hasMalware> a rdf:Property .\\n\\n<http://w3id.org/sepses/vocab/ref/attack#hasMitigation> a rdf:Property,\\n        owl:ObjectProperty ;\\n    rdfs:domain <http://w3id.org/sepses/vocab/ref/attack#Technique> ;\\n    rdfs:range <http://w3id.org/sepses/vocab/ref/attack#Mitigation> .\\n\\n<http://w3id.org/sepses/vocab/ref/attack#hasReference> a owl:ObjectProperty ;\\n    rdfs:domain <http://w3id.org/sepses/vocab/ref/attack#Technique> ;\\n    rdfs:range <http://w3id.org/sepses/vocab/ref/attack#Reference> .\\n\\n<http://w3id.org/sepses/vocab/ref/attack#hasSoftware> a owl:ObjectProperty ;\\n    rdfs:domain <http://w3id.org/sepses/vocab/ref/attack#Technique> ;\\n    rdfs:range <http://w3id.org/sepses/vocab/ref/attack#Software> .\\n\\n<http://w3id.org/sepses/vocab/ref/attack#hasTechnique> a rdf:Property,\\n        owl:ObjectProperty ;\\n    rdfs:domain <http://w3id.org/sepses/vocab/ref/attack#Tactic> ;\\n    rdfs:range <http://w3id.org/sepses/vocab/ref/attack#Technique> .\\n\\n<http://w3id.org/sepses/vocab/ref/attack#implementsTechnique> a rdf:Property,\\n        owl:ObjectProperty ;\\n    rdfs:domain <http://w3id.org/sepses/vocab/ref/attack#Malware> ;\\n    rdfs:range <http://w3id.org/sepses/vocab/ref/attack#Technique> .\\n\\n<http://w3id.org/sepses/vocab/ref/attack#isSubTechniqueOf> a owl:ObjectProperty ;\\n    rdfs:domain <http://w3id.org/sepses/vocab/ref/attack#Technique> ;\\n    rdfs:range <http://w3id.org/sepses/vocab/ref/attack#Technique> .\\n\\n<http://w3id.org/sepses/vocab/ref/attack#isSubtechnique> a rdf:Property,\\n        owl:DatatypeProperty ;\\n    rdfs:domain <http://w3id.org/sepses/vocab/ref/attack#Technique> ;\\n    rdfs:range xsd:boolean .\\n\\n<http://w3id.org/sepses/vocab/ref/attack#permissionRequired> a rdf:Property,\\n        owl:DatatypeProperty ;\\n    rdfs:domain <http://w3id.org/sepses/vocab/ref/attack#Technique> ;\\n    rdfs:range xsd:string .\\n\\n<http://w3id.org/sepses/vocab/ref/attack#platform> a rdf:Property,\\n        owl:DatatypeProperty ;\\n    rdfs:domain <http://w3id.org/sepses/vocab/ref/attack#Technique> ;\\n    rdfs:range xsd:string .\\n\\n<http://w3id.org/sepses/vocab/ref/attack#preventsTechnique> a rdf:Property,\\n        owl:ObjectProperty ;\\n    rdfs:domain <http://w3id.org/sepses/vocab/ref/attack#Mitigation> ;\\n    rdfs:range <http://w3id.org/sepses/vocab/ref/attack#Technique> .\\n\\n<http://w3id.org/sepses/vocab/ref/attack#referenceDescription> a owl:DatatypeProperty ;\\n    rdfs:domain <http://w3id.org/sepses/vocab/ref/attack#Reference> ;\\n    rdfs:range xsd:string .\\n\\n<http://w3id.org/sepses/vocab/ref/attack#referenceId> a owl:DatatypeProperty ;\\n    rdfs:domain <http://w3id.org/sepses/vocab/ref/attack#Reference> ;\\n    rdfs:range xsd:string .\\n\\n<http://w3id.org/sepses/vocab/ref/attack#referenceName> a owl:DatatypeProperty ;\\n    rdfs:domain <http://w3id.org/sepses/vocab/ref/attack#Reference> ;\\n    rdfs:range xsd:string .\\n\\n<http://w3id.org/sepses/vocab/ref/attack#referenceUrl> a owl:DatatypeProperty ;\\n    rdfs:domain <http://w3id.org/sepses/vocab/ref/attack#Reference> ;\\n    rdfs:range xsd:string .\\n\\n<http://w3id.org/sepses/vocab/ref/attack#shortname> a rdf:Property .\\n\\n<http://w3id.org/sepses/vocab/ref/attack#targetsAsset> a rdf:Property,\\n        owl:ObjectProperty ;\\n    rdfs:domain <http://w3id.org/sepses/vocab/ref/attack#Technique> ;\\n    rdfs:range <http://w3id.org/sepses/vocab/ref/attack#Asset> .\\n\\n<http://w3id.org/sepses/vocab/ref/attack#usesDataComponent> a rdf:Property .\\n\\n<http://w3id.org/sepses/vocab/ref/attack#usesMalware> a rdf:Property,\\n        owl:ObjectProperty ;\\n    rdfs:domain <http://w3id.org/sepses/vocab/ref/attack#AdversaryGroup> ;\\n    rdfs:range <http://w3id.org/sepses/vocab/ref/attack#Malware> .\\n\\n<http://w3id.org/sepses/vocab/ref/attack#usesSoftware> a owl:ObjectProperty ;\\n    rdfs:domain <http://w3id.org/sepses/vocab/ref/attack#AdversaryGroup> ;\\n    rdfs:range <http://w3id.org/sepses/vocab/ref/attack#Software> .\\n\\n<http://w3id.org/sepses/vocab/ref/attack#usesTechnique> a rdf:Property,\\n        owl:ObjectProperty ;\\n    rdfs:domain <http://w3id.org/sepses/vocab/ref/attack#AdversaryGroup> ;\\n    rdfs:range <http://w3id.org/sepses/vocab/ref/attack#Technique> .\\n\\nrdf:Alt rdfs:subClassOf rdfs:Container .\\n\\nrdf:Bag rdfs:subClassOf rdfs:Container .\\n\\nrdf:Seq rdfs:subClassOf rdfs:Container .\\n\\nrdf:_1 a rdf:Property .\\n\\nrdf:first a rdf:Property ;\\n    rdfs:domain rdf:List .\\n\\nrdf:object a rdf:Property ;\\n    rdfs:domain rdf:Statement .\\n\\nrdf:predicate a rdf:Property ;\\n    rdfs:domain rdf:Statement .\\n\\nrdf:rest a rdf:Property ;\\n    rdfs:domain rdf:List ;\\n    rdfs:range rdf:List .\\n\\nrdf:subject a rdf:Property ;\\n    rdfs:domain rdf:Statement .\\n\\nrdf:type a rdf:Property .\\n\\nrdf:value a rdf:Property .\\n\\nrdfs:ContainerMembershipProperty rdfs:subClassOf rdf:Property .\\n\\nrdfs:Datatype rdfs:subClassOf rdfs:Class .\\n\\nrdfs:SubPropertyOf a rdf:Property .\\n\\nrdfs:comment rdfs:range rdfs:Literal .\\n\\nrdfs:domain a rdf:Property ;\\n    rdfs:range rdfs:Class .\\n\\nrdfs:isDefinedBy rdfs:subPropertyOf rdfs:seeAlso .\\n\\nrdfs:label a rdf:Property ;\\n    rdfs:range rdfs:Literal .\\n\\nrdfs:range a rdf:Property ;\\n    rdfs:range rdfs:Class .\\n\\nowl:equivalentClass rdfs:subPropertyOf rdfs:subClassOf .\\n\\nowl:equivalentProperty rdfs:subPropertyOf rdfs:subPropertyOf .\\n\\nowl:inverseOf a rdf:Property .\\n\\nowl:versionIRI a rdf:Property .\\n\\n<http://w3id.org/sepses/vocab/ref/attack#Asset> a owl:Class ;\\n    rdfs:subClassOf owl:Thing .\\n\\nrdfs:subClassOf a rdf:Property ;\\n    rdfs:domain rdfs:Class ;\\n    rdfs:range rdfs:Class .\\n\\nrdfs:subPropertyOf a rdf:Property .\\n\\n<http://w3id.org/sepses/vocab/ref/attack#Mitigation> a owl:Class ;\\n    rdfs:subClassOf owl:Thing .\\n\\n<http://w3id.org/sepses/vocab/ref/attack#Tactic> a owl:Class ;\\n    rdfs:subClassOf owl:Thing .\\n\\n<http://w3id.org/sepses/vocab/ref/attack#Malware> a owl:Class ;\\n    rdfs:subClassOf <http://w3id.org/sepses/vocab/ref/attack#Software>,\\n        owl:Thing .\\n\\n<http://w3id.org/sepses/vocab/ref/attack#Software> a owl:Class ;\\n    rdfs:subClassOf owl:Thing .\\n\\n<http://w3id.org/sepses/vocab/ref/attack#Reference> a owl:Class ;\\n    rdfs:subClassOf owl:Thing .\\n\\n<http://w3id.org/sepses/vocab/ref/attack#AdversaryGroup> a owl:Class ;\\n    rdfs:subClassOf owl:Thing .\\n\\n<http://w3id.org/sepses/vocab/ref/attack#Technique> a owl:Class ;\\n    rdfs:subClassOf owl:Thing .\\n\\n'"
      ]
     },
     "execution_count": 49,
     "metadata": {},
     "output_type": "execute_result"
    }
   ],
   "source": [
    "graph.get_schema"
   ]
  },
  {
   "cell_type": "code",
   "execution_count": 26,
   "id": "144a1cf3",
   "metadata": {},
   "outputs": [],
   "source": [
    "COMMON_PREFIXES = \"\"\"\n",
    "PREFIX agg: <http://jena.apache.org/ARQ/function/aggregate#>\n",
    "PREFIX : <http://w3id.org/sepses/vocab/ref/attack#>\n",
    "PREFIX sail: <http://www.openrdf.org/config/sail#>\n",
    "PREFIX owl: <http://www.w3.org/2002/07/owl#>\n",
    "PREFIX geof: <http://www.opengis.net/def/function/geosparql/>\n",
    "PREFIX xsd: <http://www.w3.org/2001/XMLSchema#>\n",
    "PREFIX fn: <http://www.w3.org/2005/xpath-functions>\n",
    "PREFIX rdfs: <http://www.w3.org/2000/01/rdf-schema#>\n",
    "PREFIX spif: <http://spinrdf.org/spif#>\n",
    "PREFIX capec: <http://w3id.org/sepses/vocab/ref/capec#>\n",
    "PREFIX path: <http://www.ontotext.com/path#>\n",
    "PREFIX array: <http://www.w3.org/2005/xpath-functions/array>\n",
    "PREFIX apf: <http://jena.apache.org/ARQ/property#>\n",
    "PREFIX xml: <http://www.w3.org/XML/1998/namespace>\n",
    "PREFIX rep: <http://www.openrdf.org/config/repository#>\n",
    "PREFIX map: <http://www.w3.org/2005/xpath-functions/map>\n",
    "PREFIX sr: <http://www.openrdf.org/config/repository/sail#>\n",
    "PREFIX wgs: <http://www.w3.org/2003/01/geo/wgs84_pos#>\n",
    "PREFIX gn: <http://www.geonames.org/ontology#>\n",
    "PREFIX afn: <http://jena.apache.org/ARQ/function#>\n",
    "PREFIX list: <http://jena.apache.org/ARQ/list#>\n",
    "PREFIX rdf: <http://www.w3.org/1999/02/22-rdf-syntax-ns#>\n",
    "PREFIX ofn: <http://www.ontotext.com/sparql/functions/>\n",
    "PREFIX geoext: <http://rdf.useekm.com/ext#>\n",
    "PREFIX graphdb: <http://www.ontotext.com/config/graphdb#>\n",
    "PREFIX math: <http://www.w3.org/2005/xpath-functions/math>\n",
    "PREFIX omgeo: <http://www.ontotext.com/owlim/geo#>\n",
    "\"\"\""
   ]
  },
  {
   "cell_type": "code",
   "execution_count": 27,
   "id": "3c4cbda3",
   "metadata": {},
   "outputs": [],
   "source": [
    "GRAPHDB_SPARQL_GENERATION_TEMPLATE = \"\"\"\n",
    "  Write a SPARQL SELECT query for querying a graph database.\n",
    "  \n",
    "  Use these predefined prefixes in your SPARQL queries:\n",
    "  {prefixes}\n",
    "  \n",
    "  The ontology schema delimited by triple backticks in Turtle format is:\n",
    "  ```\n",
    "  {schema}\n",
    "  ```\n",
    "  \n",
    "  Use only the classes and properties provided in the schema to construct the SPARQL query.\n",
    "  Do not use any classes or properties that are not explicitly provided in the SPARQL query.\n",
    "  Always do a case-insensitive and regex search for any properties related search. Eg: use `FILTER (regex(?description),\"sql injection\") `. \n",
    "  Include all necessary prefixes from the predefined list above.\n",
    "  Do not include any explanations or apologies in your responses.\n",
    "  Do not wrap the query in backticks.\n",
    "  Do not include any text except the SPARQL query generated.\n",
    "  \n",
    "  The question delimited by triple backticks is:\n",
    "  ```\n",
    "  {prompt}\n",
    "  ```\n",
    "  \"\"\"\n",
    "\n",
    "GRAPHDB_SPARQL_GENERATION_PROMPT = PromptTemplate(\n",
    "      input_variables=[\"schema\", \"prompt\", \"prefixes\"],\n",
    "      template=GRAPHDB_SPARQL_GENERATION_TEMPLATE,\n",
    "  )"
   ]
  },
  {
   "cell_type": "code",
   "execution_count": 28,
   "id": "62fafd0d",
   "metadata": {},
   "outputs": [],
   "source": [
    "GRAPHDB_QA_TEMPLATE = \"\"\"Task: Generate a natural language response from the results of a SPARQL query.\n",
    "  You are an assistant that creates well-written and human understandable answers.\n",
    "  The information part contains the information provided, which you can use to construct an answer.\n",
    "  The information provided is authoritative, you must never doubt it or try to use your internal knowledge to correct it.\n",
    "  Make your response sound like the information is coming from an AI assistant, but don't add any information.\n",
    "  Don't use internal knowledge to answer the question, just say you don't know if no information is available.\n",
    "  Information:\n",
    "  {context}\n",
    "  \n",
    "  Question: {prompt}\n",
    "  Helpful Answer:\"\"\"\n",
    "GRAPHDB_QA_PROMPT = PromptTemplate(\n",
    "      input_variables=[\"context\", \"prompt\"], template=GRAPHDB_QA_TEMPLATE\n",
    "  )"
   ]
  },
  {
   "cell_type": "code",
   "execution_count": 30,
   "id": "921a350d",
   "metadata": {},
   "outputs": [],
   "source": [
    "def query_graph(user_input):\n",
    "    chain = OntotextGraphDBQAChain.from_llm(\n",
    "        llm=llm,\n",
    "        graph=graph,\n",
    "        verbose=True,\n",
    "        return_intermediate_steps=True, \n",
    "        sparql_prompt =GRAPHDB_SPARQL_GENERATION_PROMPT,\n",
    "        qa_prompt=GRAPHDB_QA_PROMPT,\n",
    "        allow_dangerous_requests=True,  # Set to True to allow dangerous requests\n",
    "        )\n",
    "    result = chain.invoke(user_input)\n",
    "    return result\n"
   ]
  },
  {
   "cell_type": "code",
   "execution_count": 47,
   "id": "39476804",
   "metadata": {},
   "outputs": [],
   "source": [
    "query_1 = \"can you tell me all the techniques under Initial Access?\"\n",
    "query_2 = \"What are the techniques used for Privilege Escalation?\"\n",
    "query_3 = \"Show 5 available tactics in the database\"\n",
    "query_4 = \"What are the mitigations for the 'Data Encrypted for Impact' technique?\""
   ]
  },
  {
   "cell_type": "code",
   "execution_count": 48,
   "id": "9ec6eaea",
   "metadata": {},
   "outputs": [
    {
     "name": "stdout",
     "output_type": "stream",
     "text": [
      "\n",
      "\n",
      "\u001b[1m> Entering new OntotextGraphDBQAChain chain...\u001b[0m\n",
      "Generated SPARQL:\n",
      "\u001b[32;1m\u001b[1;3mPREFIX attack: <http://w3id.org/sepses/vocab/ref/attack#>\n",
      "PREFIX rdfs: <http://www.w3.org/2000/01/rdf-schema#>\n",
      "\n",
      "SELECT ?mitigation\n",
      "WHERE {\n",
      "  ?technique a attack:Technique ;\n",
      "             rdfs:label \"Data Encrypted for Impact\" ;\n",
      "             attack:hasMitigation ?mitigation .\n",
      "}\u001b[0m\n",
      "\n",
      "\u001b[1m> Finished chain.\u001b[0m\n"
     ]
    },
    {
     "data": {
      "text/plain": [
       "{'query': \"What are the mitigations for the 'Data Encrypted for Impact' technique?\",\n",
       " 'result': \"I'm sorry, but I don't have any information available regarding the mitigations for the 'Data Encrypted for Impact' technique.\"}"
      ]
     },
     "execution_count": 48,
     "metadata": {},
     "output_type": "execute_result"
    }
   ],
   "source": [
    "query_graph(query_4)\n"
   ]
  }
 ],
 "metadata": {
  "kernelspec": {
   "display_name": "multi-agents-rag-cykg",
   "language": "python",
   "name": "python3"
  },
  "language_info": {
   "codemirror_mode": {
    "name": "ipython",
    "version": 3
   },
   "file_extension": ".py",
   "mimetype": "text/x-python",
   "name": "python",
   "nbconvert_exporter": "python",
   "pygments_lexer": "ipython3",
   "version": "3.12.7"
  }
 },
 "nbformat": 4,
 "nbformat_minor": 5
}
