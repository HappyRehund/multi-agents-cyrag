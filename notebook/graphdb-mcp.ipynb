{
 "cells": [
  {
   "cell_type": "code",
   "execution_count": 2,
   "id": "710ba85c",
   "metadata": {},
   "outputs": [],
   "source": [
    "import os\n",
    "\n",
    "from langchain_openai import ChatOpenAI\n",
    "from mcp_use import MCPAgent, MCPClient\n"
   ]
  },
  {
   "cell_type": "code",
   "execution_count": 3,
   "id": "b3973e17",
   "metadata": {},
   "outputs": [],
   "source": [
    "os.environ[\"MCP_USE_ANONYMIZED_TELEMETRY\"] = \"false\"\n",
    "OPENAI_API_KEY = os.environ.get(\"OPENAI_API_KEY\")"
   ]
  },
  {
   "cell_type": "code",
   "execution_count": 4,
   "id": "d9db54da",
   "metadata": {},
   "outputs": [],
   "source": [
    "llm = ChatOpenAI(\n",
    "    model=\"gpt-4o\",\n",
    "    temperature=0,\n",
    ")"
   ]
  },
  {
   "cell_type": "code",
   "execution_count": null,
   "id": "63b219b8",
   "metadata": {},
   "outputs": [
    {
     "name": "stdout",
     "output_type": "stream",
     "text": [
      "<mcp_use.client.MCPClient object at 0x000001F83F87D2E0>\n"
     ]
    }
   ],
   "source": [
    "config_path = \"../mcp-test/browser_mcp.json\"\n",
    "client = MCPClient.from_config_file(config_path)"
   ]
  },
  {
   "cell_type": "code",
   "execution_count": 8,
   "id": "9e4f60fe",
   "metadata": {},
   "outputs": [],
   "source": [
    "strict_system_prompt = \"\"\"\n",
    "    You are a specialized cybersecurity assistant that answers questions ONLY by using the provided tools.\n",
    "    You MUST NOT answer any questions from your own knowledge. Your only source of information is the connected database.\n",
    "    Always start by thinking about which tool to use. If the initial tools don't provide enough information about the database schema, use tools like `listGraphs` to understand what data is available.\n",
    "    If after using the tools you cannot find an answer, you must state that you could not find the information in the database.\n",
    "    NEVER provide an answer from memory.\n",
    "    \"\"\""
   ]
  },
  {
   "cell_type": "code",
   "execution_count": 9,
   "id": "4c328ea9",
   "metadata": {},
   "outputs": [],
   "source": [
    "agent = MCPAgent(llm=llm, client=client, max_steps=30,\n",
    "                     verbose=True, system_prompt=strict_system_prompt)"
   ]
  },
  {
   "cell_type": "code",
   "execution_count": null,
   "id": "8e04793e",
   "metadata": {},
   "outputs": [],
   "source": [
    "result = await agent.run(\"What techniques are used for credential dumping on Windows systems?\")"
   ]
  },
  {
   "cell_type": "code",
   "execution_count": null,
   "id": "cd8a7a6e",
   "metadata": {},
   "outputs": [],
   "source": [
    "print(f\"\\nHasil: {result}\")"
   ]
  }
 ],
 "metadata": {
  "kernelspec": {
   "display_name": "multi-agents-rag-cykg",
   "language": "python",
   "name": "python3"
  },
  "language_info": {
   "codemirror_mode": {
    "name": "ipython",
    "version": 3
   },
   "file_extension": ".py",
   "mimetype": "text/x-python",
   "name": "python",
   "nbconvert_exporter": "python",
   "pygments_lexer": "ipython3",
   "version": "3.12.7"
  }
 },
 "nbformat": 4,
 "nbformat_minor": 5
}
