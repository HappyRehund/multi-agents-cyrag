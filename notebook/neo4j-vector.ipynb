{
 "cells": [
  {
   "cell_type": "code",
   "execution_count": 1,
   "id": "6a8dfa52",
   "metadata": {},
   "outputs": [],
   "source": [
    "import os\n",
    "from typing import List, Tuple\n",
    "from langchain_openai import ChatOpenAI, OpenAIEmbeddings\n",
    "from langchain_neo4j.vectorstores.neo4j_vector import Neo4jVector\n",
    "from langchain_neo4j.vectorstores.neo4j_vector import remove_lucene_chars\n",
    "from langchain_neo4j import Neo4jGraph\n",
    "from pydantic import BaseModel, Field\n",
    "from langchain_core.prompts import ChatPromptTemplate, PromptTemplate\n",
    "from langchain_core.messages import HumanMessage, AIMessage\n",
    "from langchain_core.runnables import RunnablePassthrough, RunnableLambda, RunnableBranch, RunnableParallel\n",
    "from langchain_core.output_parsers.string import StrOutputParser\n"
   ]
  },
  {
   "cell_type": "code",
   "execution_count": null,
   "id": "73b22165",
   "metadata": {},
   "outputs": [],
   "source": [
    "OPENAI_API_KEY = os.environ.get(\"OPENAI_API_KEY\")\n",
    "neo4j_uri = os.environ.get(\"NEO4J_URI\")\n",
    "neo4j_username = os.environ.get(\"NEO4J_USERNAME\")\n",
    "neo4j_password = os.environ.get(\"NEO4J_PASSWORD_ICS\")"
   ]
  },
  {
   "cell_type": "code",
   "execution_count": null,
   "id": "0bdcc179",
   "metadata": {},
   "outputs": [],
   "source": [
    "graph = Neo4jGraph(\n",
    "    url=neo4j_uri,\n",
    "    username=neo4j_username,\n",
    "    password=neo4j_password\n",
    ")\n",
    "llm = ChatOpenAI(temperature=0, model_name=\"gpt-4o\")\n",
    "print(graph.get_schema)"
   ]
  },
  {
   "cell_type": "code",
   "execution_count": null,
   "id": "238ca649",
   "metadata": {},
   "outputs": [],
   "source": [
    "vector_index = Neo4jVector.from_existing_graph(\n",
    "    OpenAIEmbeddings(),\n",
    "    search_type=\"hybrid\",\n",
    "    node_label=\"Resource\",\n",
    "    text_node_properties=[\"ns1__description\"],\n",
    "    embedding_node_property=\"embedding\"\n",
    ")"
   ]
  },
  {
   "cell_type": "code",
   "execution_count": 21,
   "id": "8db48ca7",
   "metadata": {},
   "outputs": [],
   "source": [
    "class Entities(BaseModel):\n",
    "    \"\"\"Identifying information about resources.\"\"\"\n",
    "\n",
    "    names: List[str] = Field(\n",
    "        ...,\n",
    "        description=\"All the tactics, techniques, or software entities that \"\n",
    "        \"appear in the text\",\n",
    "    )\n",
    "    \n",
    "entity_prompt = ChatPromptTemplate.from_messages(\n",
    "    [\n",
    "        (\n",
    "            \"system\",\n",
    "            \"You are extracting attack techniques, tactics, malware, mitigations entities from the text.\",\n",
    "        ),\n",
    "        (\n",
    "            \"human\",\n",
    "            \"Use the given format to extract information from the following \"\n",
    "            \"input: {question}\",\n",
    "        ),\n",
    "    ]\n",
    ")\n",
    "\n",
    "entity_chain = entity_prompt | llm.with_structured_output(Entities) #Pokoknya buat entity extraction"
   ]
  },
  {
   "cell_type": "code",
   "execution_count": 22,
   "id": "562bc84f",
   "metadata": {},
   "outputs": [],
   "source": [
    "def generate_full_text_query(input: str) -> str:\n",
    "    \"\"\"\n",
    "    Generate a full-text search query for a given input string.\n",
    "\n",
    "    This function constructs a query string suitable for a full-text search.\n",
    "    It processes the input string by splitting it into words and appending a\n",
    "    similarity threshold (~2 changed characters) to each word, then combines\n",
    "    them using the AND operator. Useful for mapping entities from user questions\n",
    "    to database values, and allows for some misspelings.\n",
    "    \"\"\"\n",
    "    full_text_query = \"\"\n",
    "    words = [el for el in remove_lucene_chars(input).split() if el]\n",
    "    for word in words[:-1]:\n",
    "        full_text_query += f\" {word}~2 AND\"\n",
    "    full_text_query += f\" {words[-1]}~2\"\n",
    "    return full_text_query.strip()\n",
    "\n",
    "def structured_retriever(question: str) -> str:\n",
    "    \"\"\"\n",
    "    Collects the neighborhood of resources mentioned\n",
    "    in the question\n",
    "    \"\"\"\n",
    "    result = \"\"\n",
    "    entities = entity_chain.invoke({\"question\": question})\n",
    "    for entity in entities.names:\n",
    "        response = graph.query(\n",
    "            \"\"\"CALL db.index.fulltext.queryNodes('entity', $query, {limit:2})\n",
    "            YIELD node, score\n",
    "            \n",
    "            MATCH (node)-[r]-(neighbor)\n",
    "            WHERE node.ns1__title IS NOT NULL AND neighbor.ns1__title IS NOT NULL\n",
    "            \n",
    "            RETURN CASE\n",
    "                WHEN startNode(r) = node \n",
    "                THEN node.ns1__title + ' - ' + type(r) + ' -> ' + neighbor.ns1__title\n",
    "                ELSE neighbor.ns1__title + ' - ' + type(r) + ' -> ' + node.ns1__title\n",
    "            END AS output\n",
    "            LIMIT 50\n",
    "            \"\"\",\n",
    "            {\"query\": generate_full_text_query(entity)},\n",
    "        )\n",
    "        result += \"\\n\".join([el['output'] for el in response])\n",
    "    return result\n",
    "# print(structured_retriever(query1))"
   ]
  },
  {
   "cell_type": "code",
   "execution_count": 23,
   "id": "adf3856f",
   "metadata": {},
   "outputs": [],
   "source": [
    "def hybrid_retriever(question: str):\n",
    "    \"\"\"Combines structured and unstructured data retrieval based on the question.\"\"\"\n",
    "    print(f\"Search query: {question}\")\n",
    "    structured_data = structured_retriever(question)\n",
    "    unstructured_data = [el.page_content for el in vector_index.similarity_search(question)]\n",
    "    final_data = f\"\"\"Structured data:\n",
    "{structured_data}\n",
    "Unstructured data:\n",
    "{\"#Resource \". join(unstructured_data)}\n",
    "    \"\"\"\n",
    "    return final_data"
   ]
  },
  {
   "cell_type": "code",
   "execution_count": 24,
   "id": "3299aed8",
   "metadata": {},
   "outputs": [],
   "source": [
    "_template = \"\"\"Given the following conversation and a follow up question, rephrase the follow up question to be a standalone question,\n",
    "in its original language.\n",
    "Chat History:\n",
    "{chat_history}\n",
    "Follow Up Input: {question}\n",
    "Standalone question:\"\"\"  # noqa: E501\n",
    "CONDENSE_QUESTION_PROMPT = PromptTemplate.from_template(_template)"
   ]
  },
  {
   "cell_type": "code",
   "execution_count": 25,
   "id": "7478e764",
   "metadata": {},
   "outputs": [],
   "source": [
    "def _format_chat_history(chat_history: List[Tuple[str, str]]) -> List:\n",
    "    buffer = []\n",
    "    for human, ai in chat_history:\n",
    "        buffer.append(HumanMessage(content=human))\n",
    "        buffer.append(AIMessage(content=ai))\n",
    "    return buffer"
   ]
  },
  {
   "cell_type": "code",
   "execution_count": 26,
   "id": "28f18dfe",
   "metadata": {},
   "outputs": [],
   "source": [
    "_search_query = RunnableBranch(\n",
    "    # If input includes chat_history, we condense it with the follow-up question\n",
    "    (\n",
    "        RunnableLambda(lambda x: bool(x.get(\"chat_history\"))).with_config(\n",
    "            run_name=\"HasChatHistoryCheck\"\n",
    "        ),  # Condense follow-up question and chat into a standalone_question\n",
    "        RunnablePassthrough.assign(\n",
    "            chat_history=lambda x: _format_chat_history(x[\"chat_history\"])\n",
    "        )\n",
    "        | CONDENSE_QUESTION_PROMPT\n",
    "        | ChatOpenAI(temperature=0)\n",
    "        | StrOutputParser(),\n",
    "    ),\n",
    "    # Else, we have no chat history, so just pass through the question\n",
    "    RunnableLambda(lambda x : x[\"question\"]),\n",
    ")"
   ]
  },
  {
   "cell_type": "code",
   "execution_count": 27,
   "id": "c2335cda",
   "metadata": {},
   "outputs": [],
   "source": [
    "template = \"\"\"Answer the question based only on the following context:\n",
    "{context}\n",
    "\n",
    "Question: {question}\n",
    "Use natural language and be concise.\n",
    "Answer:\"\"\"\n",
    "prompt = ChatPromptTemplate.from_template(template)"
   ]
  },
  {
   "cell_type": "code",
   "execution_count": 28,
   "id": "dbf5c52f",
   "metadata": {},
   "outputs": [],
   "source": [
    "final_chain = (\n",
    "    RunnableParallel(\n",
    "        {\n",
    "            \"context\": _search_query | hybrid_retriever,\n",
    "            \"question\": RunnablePassthrough(),\n",
    "        }\n",
    "    )\n",
    "    | prompt\n",
    "    | llm\n",
    "    | StrOutputParser()\n",
    ")"
   ]
  },
  {
   "cell_type": "code",
   "execution_count": 29,
   "id": "dcb8cc6f",
   "metadata": {},
   "outputs": [],
   "source": [
    "def query_agent(question: str) :\n",
    "    \"\"\"\n",
    "    Query the graph and vector index using a hybrid approach.\n",
    "    \"\"\"\n",
    "    return final_chain.invoke({\"question\": question})"
   ]
  },
  {
   "cell_type": "code",
   "execution_count": 30,
   "id": "52f72e2a",
   "metadata": {},
   "outputs": [],
   "source": [
    "query1 = \"Identify pairs of threat groups that do not share any malware, but both use techniques that leverage the same software. List the shared software and the respective groups.\"\n",
    "query2 = \"Show me all techniques related to 'SQL Injection' and their descriptions.\""
   ]
  },
  {
   "cell_type": "code",
   "execution_count": 31,
   "id": "499994c1",
   "metadata": {},
   "outputs": [
    {
     "name": "stdout",
     "output_type": "stream",
     "text": [
      "Search query: Identify pairs of threat groups that do not share any malware, but both use techniques that leverage the same software. List the shared software and the respective groups.\n",
      "Answer 1:\n",
      "\n",
      "The context provided does not explicitly mention specific threat groups other than FIN7 and Carbanak, nor does it detail the specific techniques or software used by other groups. Therefore, based on the available information, it is not possible to identify pairs of threat groups that do not share any malware but both use techniques leveraging the same software. The context primarily focuses on the use of software in various techniques and the mitigation strategies involving software updates.\n"
     ]
    }
   ],
   "source": [
    "response1 = query_agent(query1)\n",
    "print(\"Answer 1:\\n\")\n",
    "print(response1)"
   ]
  },
  {
   "cell_type": "code",
   "execution_count": 32,
   "id": "6fc2b289",
   "metadata": {},
   "outputs": [
    {
     "name": "stdout",
     "output_type": "stream",
     "text": [
      "Search query: Show me all techniques related to 'SQL Injection' and their descriptions.\n",
      "\n",
      "Answer 2:\n",
      "\n",
      "The provided context does not contain any information related to \"SQL Injection\" techniques or their descriptions.\n"
     ]
    }
   ],
   "source": [
    "response2 = query_agent(query2)\n",
    "print(\"\\nAnswer 2:\\n\")\n",
    "print(response2)"
   ]
  },
  {
   "cell_type": "code",
   "execution_count": null,
   "id": "2fb20756",
   "metadata": {},
   "outputs": [],
   "source": []
  },
  {
   "cell_type": "code",
   "execution_count": null,
   "id": "5c055a0f",
   "metadata": {},
   "outputs": [],
   "source": []
  }
 ],
 "metadata": {
  "kernelspec": {
   "display_name": "multi-agents-rag-cykg",
   "language": "python",
   "name": "python3"
  },
  "language_info": {
   "codemirror_mode": {
    "name": "ipython",
    "version": 3
   },
   "file_extension": ".py",
   "mimetype": "text/x-python",
   "name": "python",
   "nbconvert_exporter": "python",
   "pygments_lexer": "ipython3",
   "version": "3.12.7"
  }
 },
 "nbformat": 4,
 "nbformat_minor": 5
}
