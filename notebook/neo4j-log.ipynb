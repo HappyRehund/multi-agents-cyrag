{
 "cells": [
  {
   "cell_type": "code",
   "execution_count": null,
   "id": "a4f6f987",
   "metadata": {},
   "outputs": [],
   "source": [
    "#log cell code 1\n",
    "import os\n",
    "from typing import List, Tuple\n",
    "from langchain_openai import ChatOpenAI, OpenAIEmbeddings\n",
    "from langchain_neo4j.vectorstores.neo4j_vector import Neo4jVector\n",
    "from langchain_neo4j.vectorstores.neo4j_vector import remove_lucene_chars\n",
    "from langchain_neo4j import Neo4jGraph\n",
    "from pydantic import BaseModel, Field\n",
    "from langchain_core.prompts import ChatPromptTemplate, PromptTemplate\n",
    "from langchain_core.messages import HumanMessage, AIMessage\n",
    "from langchain_core.runnables import RunnablePassthrough, RunnableLambda, RunnableBranch, RunnableParallel\n",
    "from langchain_core.output_parsers.string import StrOutputParser\n"
   ]
  },
  {
   "cell_type": "code",
   "execution_count": null,
   "id": "cf206a61",
   "metadata": {},
   "outputs": [
    {
     "name": "stdout",
     "output_type": "stream",
     "text": [
      "neo4j neo4j+s://b11e3fd0.databases.neo4j.io neo4j hW5hL7_B_zUclM6QyjXGVWHhWk0gIypvADyVIhJKQ6A neo4j\n"
     ]
    }
   ],
   "source": [
    "#log cell code 2\n",
    "OPENAI_API_KEY = os.environ.get(\"OPENAI_API_KEY\")\n",
    "neo4j_uri = os.environ.get(\"NEO4J_AURA\")\n",
    "neo4j_username = os.environ.get(\"NEO4J_USERNAME\")\n",
    "neo4j_password = os.environ.get(\"NEO4J_PASSWORD\")\n",
    "neo4j_database = os.environ.get(\"NEO4J_DATABASE\")\n",
    "\n",
    "print(neo4j_database, neo4j_uri, neo4j_username, neo4j_password, neo4j_database)"
   ]
  },
  {
   "cell_type": "code",
   "execution_count": null,
   "id": "6c97ce40",
   "metadata": {},
   "outputs": [],
   "source": [
    "#log cell code 3\n",
    "graph = Neo4jGraph(\n",
    "    url=neo4j_uri,\n",
    "    username=neo4j_username,\n",
    "    password=neo4j_password,\n",
    "    database=neo4j_database\n",
    ")\n",
    "llm = ChatOpenAI(temperature=0, model_name=\"gpt-4o\")\n",
    "embeddings = OpenAIEmbeddings()"
   ]
  },
  {
   "cell_type": "code",
   "execution_count": null,
   "id": "412cba12",
   "metadata": {},
   "outputs": [],
   "source": [
    "#log cell code 4\n",
    "vector_index = Neo4jVector.from_existing_graph(\n",
    "    OpenAIEmbeddings(),\n",
    "    url=neo4j_uri,\n",
    "    username=neo4j_username,\n",
    "    password=neo4j_password,\n",
    "    node_label=\"Resource\",\n",
    "    text_node_properties=[\n",
    "        \"rdfs__label\", \n",
    "        \"ns0__pname\", \n",
    "        \"ns0__msg\", \n",
    "        \"ns0__user.name\"\n",
    "    ],\n",
    "    embedding_node_property=\"embedding\",\n",
    "    search_type=\"hybrid\",\n",
    ")"
   ]
  },
  {
   "cell_type": "code",
   "execution_count": null,
   "id": "b2fda383",
   "metadata": {},
   "outputs": [],
   "source": [
    "#log cell code 5\n",
    "class Entities(BaseModel):\n",
    "    \"\"\"Identifying information about resources.\"\"\"\n",
    "\n",
    "    names: List[str] = Field(\n",
    "        ...,\n",
    "        description=\"All the tactics, techniques, or software entities that \"\n",
    "        \"appear in the text\",\n",
    "    )\n",
    "    \n",
    "entity_prompt = ChatPromptTemplate.from_messages(\n",
    "    [\n",
    "        (\n",
    "            \"system\",\n",
    "            \"You are extracting user names, host names, or process names from the text.\",\n",
    "        ),\n",
    "        (\n",
    "            \"human\",\n",
    "            \"Use the given format to extract information from the following \"\n",
    "            \"input: {question}\",\n",
    "        ),\n",
    "    ]\n",
    ")\n",
    "\n",
    "entity_chain = entity_prompt | llm.with_structured_output(Entities) #Pokoknya buat entity extraction"
   ]
  },
  {
   "cell_type": "code",
   "execution_count": 26,
   "id": "e4e4646e",
   "metadata": {},
   "outputs": [],
   "source": [
    "#log cell code 6\n",
    "def generate_full_text_query(input: str) -> str:\n",
    "    \"\"\"\n",
    "    Generate a full-text search query for a given input string.\n",
    "\n",
    "    This function constructs a query string suitable for a full-text search.\n",
    "    It processes the input string by splitting it into words and appending a\n",
    "    similarity threshold (~2 changed characters) to each word, then combines\n",
    "    them using the AND operator. Useful for mapping entities from user questions\n",
    "    to database values, and allows for some misspelings.\n",
    "    \"\"\"\n",
    "    full_text_query = \"\"\n",
    "    words = [el for el in remove_lucene_chars(input).split() if el]\n",
    "    for word in words[:-1]:\n",
    "        full_text_query += f\" {word}~2 AND\"\n",
    "    full_text_query += f\" {words[-1]}~2\"\n",
    "    return full_text_query.strip()\n",
    "\n",
    "\n",
    "def structured_retriever(question: str) -> str:\n",
    "    \"\"\"\n",
    "    Collects the neighborhood of resources mentioned\n",
    "    in the question\n",
    "    \"\"\"\n",
    "    result = \"\"\n",
    "    entities = entity_chain.invoke({\"question\": question})\n",
    "\n",
    "    print(f\"\\n--- Extracted Entities: {entities.names} ---\")\n",
    "\n",
    "    for entity in entities.names:\n",
    "        response = graph.query(\n",
    "            \"\"\"\n",
    "            MATCH (user:ns0__User)\n",
    "            WHERE toLower(user.`ns0__user.name`) CONTAINS toLower($entity)\n",
    "            MATCH (user)<-[:ns0__hasUser]-(event:ns0__Event)\n",
    "            RETURN \"User '\" + user.`ns0__user.name` + \"' performed action '\" + event.ns0__msg + \n",
    "                   \"' with process '\" + event.ns0__pname + \"' (PID: \" + event.ns0__pid + \") at time \" + event.ns0__time AS output\n",
    "            LIMIT 10\n",
    "            \"\"\",\n",
    "            {\"entity\": entity},\n",
    "        )\n",
    "        result += \"\\n\".join([el['output'] for el in response])\n",
    "    return result"
   ]
  },
  {
   "cell_type": "code",
   "execution_count": null,
   "id": "6b50f6bd",
   "metadata": {},
   "outputs": [],
   "source": [
    "#log cell code 7\n",
    "def hybrid_retriever(question: str):\n",
    "    \"\"\"Combines structured and unstructured data retrieval based on the question.\"\"\"\n",
    "    print(f\"Search query: {question}\")\n",
    "    structured_data = structured_retriever(question)\n",
    "\n",
    "    print(\"\\n--- Structured Data Retrieved ---\")\n",
    "    print(structured_data)\n",
    "    print(\"---------------------------------\\n\")\n",
    "\n",
    "    unstructured_data = [\n",
    "        el.page_content for el in vector_index.similarity_search(question)]\n",
    "\n",
    "    print(\"\\n--- Unstructured Data Retrieved ---\")\n",
    "    print(unstructured_data)\n",
    "    print(\"-----------------------------------\\n\")\n",
    "\n",
    "    final_data = f\"\"\"Structured data:\n",
    "    {structured_data}\n",
    "    Unstructured data:\n",
    "    {\"#Resource \". join(unstructured_data)}\n",
    "    \"\"\"\n",
    "    return final_data"
   ]
  },
  {
   "cell_type": "code",
   "execution_count": null,
   "id": "673d5274",
   "metadata": {},
   "outputs": [],
   "source": [
    "#log cell code 8\n",
    "_template = \"\"\"Given the following conversation and a follow up question, rephrase the follow up question to be a standalone question,\n",
    "in its original language.\n",
    "Chat History:\n",
    "{chat_history}\n",
    "Follow Up Input: {question}\n",
    "Standalone question:\"\"\"  \n",
    "CONDENSE_QUESTION_PROMPT = PromptTemplate.from_template(_template)"
   ]
  },
  {
   "cell_type": "code",
   "execution_count": null,
   "id": "0fcbbf6d",
   "metadata": {},
   "outputs": [],
   "source": [
    "#log cell code 9\n",
    "def _format_chat_history(chat_history: List[Tuple[str, str]]) -> List:\n",
    "    buffer = []\n",
    "    for human, ai in chat_history:\n",
    "        buffer.append(HumanMessage(content=human))\n",
    "        buffer.append(AIMessage(content=ai))\n",
    "    return buffer"
   ]
  },
  {
   "cell_type": "code",
   "execution_count": null,
   "id": "cf527ecb",
   "metadata": {},
   "outputs": [],
   "source": [
    "#log cell code 10\n",
    "_search_query = RunnableBranch(\n",
    "    # If input includes chat_history, we condense it with the follow-up question\n",
    "    (\n",
    "        RunnableLambda(lambda x: bool(x.get(\"chat_history\"))).with_config(\n",
    "            run_name=\"HasChatHistoryCheck\"\n",
    "        ),  # Condense follow-up question and chat into a standalone_question\n",
    "        RunnablePassthrough.assign(\n",
    "            chat_history=lambda x: _format_chat_history(x[\"chat_history\"])\n",
    "        )\n",
    "        | CONDENSE_QUESTION_PROMPT\n",
    "        | ChatOpenAI(temperature=0)\n",
    "        | StrOutputParser(),\n",
    "    ),\n",
    "    # Else, we have no chat history, so just pass through the question\n",
    "    RunnableLambda(lambda x : x[\"question\"]),\n",
    ")"
   ]
  },
  {
   "cell_type": "code",
   "execution_count": null,
   "id": "7a6b90cc",
   "metadata": {},
   "outputs": [],
   "source": [
    "#log cell code 11\n",
    "template = \"\"\"Answer the question based only on the following context:\n",
    "{context}\n",
    "\n",
    "Question: {question}\n",
    "Use natural language and be concise.\n",
    "Answer:\"\"\"\n",
    "prompt = ChatPromptTemplate.from_template(template)"
   ]
  },
  {
   "cell_type": "code",
   "execution_count": null,
   "id": "ab29068b",
   "metadata": {},
   "outputs": [],
   "source": [
    "#log cell code 12\n",
    "final_chain = (\n",
    "    RunnableParallel(\n",
    "        {\n",
    "            \"context\": _search_query | hybrid_retriever,\n",
    "            \"question\": RunnablePassthrough(),\n",
    "        }\n",
    "    )\n",
    "    | prompt\n",
    "    | llm\n",
    "    | StrOutputParser()\n",
    ")"
   ]
  },
  {
   "cell_type": "code",
   "execution_count": 27,
   "id": "4fe48833",
   "metadata": {},
   "outputs": [],
   "source": [
    "#log cell code 13\n",
    "def query_agent(question: str) :\n",
    "    \"\"\"\n",
    "    Query the graph and vector index using a hybrid approach.\n",
    "    \"\"\"\n",
    "    return final_chain.invoke({\"question\": question})"
   ]
  },
  {
   "cell_type": "code",
   "execution_count": 28,
   "id": "61607455",
   "metadata": {},
   "outputs": [],
   "source": [
    "#log cell code 14\n",
    "query1 = \"Who is daryl, and what does he do in system?\""
   ]
  },
  {
   "cell_type": "code",
   "execution_count": 30,
   "id": "4416ca86",
   "metadata": {},
   "outputs": [
    {
     "name": "stdout",
     "output_type": "stream",
     "text": [
      "Search query: Who is daryl, and what does he do in system?\n",
      "\n",
      "--- Extracted Entities: ['daryl'] ---\n",
      "\n",
      "--- Structured Data Retrieved ---\n",
      "User 'daryl' performed action 'pam_unix(dovecot:auth): authentication failure; logname= uid=0 euid=0 tty=dovecot ruser=daryl rhost=127.0.0.1  user=daryl' with process 'auth' (PID: ) at time 2021-03-05T07:28:23\n",
      "User 'daryl' performed action 'pam_unix(dovecot:auth): authentication failure; logname= uid=0 euid=0 tty=dovecot ruser=daryl rhost=127.0.0.1  user=daryl' with process 'auth' (PID: ) at time 2021-03-05T07:26:39\n",
      "User 'daryl' performed action 'pam_unix(dovecot:auth): authentication failure; logname= uid=0 euid=0 tty=dovecot ruser=daryl rhost=127.0.0.1  user=daryl' with process 'auth' (PID: ) at time 2021-03-05T07:27:44\n",
      "User 'daryl' performed action 'pam_unix(dovecot:auth): authentication failure; logname= uid=0 euid=0 tty=dovecot ruser=daryl rhost=127.0.0.1  user=daryl' with process 'auth' (PID: ) at time 2021-03-05T07:29:28\n",
      "User 'daryl' performed action 'pam_unix(dovecot:auth): authentication failure; logname= uid=0 euid=0 tty=dovecot ruser=daryl rhost=127.0.0.1  user=daryl' with process 'auth' (PID: ) at time 2021-03-05T07:27:44\n",
      "User 'daryl' performed action 'pam_unix(dovecot:auth): authentication failure; logname= uid=0 euid=0 tty=dovecot ruser=daryl rhost=127.0.0.1  user=daryl' with process 'auth' (PID: ) at time 2021-03-05T07:28:04\n",
      "User 'daryl' performed action 'pam_unix(dovecot:auth): authentication failure; logname= uid=0 euid=0 tty=dovecot ruser=daryl rhost=127.0.0.1  user=daryl' with process 'auth' (PID: ) at time 2021-03-05T07:29:10\n",
      "User 'daryl' performed action 'pam_unix(dovecot:auth): authentication failure; logname= uid=0 euid=0 tty=dovecot ruser=daryl rhost=127.0.0.1  user=daryl' with process 'auth' (PID: ) at time 2021-03-05T07:29:07\n",
      "User 'daryl' performed action 'pam_unix(dovecot:auth): authentication failure; logname= uid=0 euid=0 tty=dovecot ruser=daryl rhost=127.0.0.1  user=daryl' with process 'auth' (PID: ) at time 2021-03-05T07:25:48\n",
      "User 'daryl' performed action 'pam_unix(dovecot:auth): authentication failure; logname= uid=0 euid=0 tty=dovecot ruser=daryl rhost=127.0.0.1  user=daryl' with process 'auth' (PID: ) at time 2021-03-05T07:26:44\n",
      "---------------------------------\n",
      "\n",
      "\n",
      "--- Unstructured Data Retrieved ---\n",
      "['\\nrdfs__label: \\nns0__pname: auth\\nns0__msg: pam_unix(dovecot:auth): authentication failure; logname= uid=0 euid=0 tty=dovecot ruser=daryl rhost=127.0.0.1  user=daryl\\nns0__user.name: ', '\\nrdfs__label: \\nns0__pname: \\nns0__msg: \\nns0__user.name: daryl', '\\nrdfs__label: \\nns0__pname: auth\\nns0__msg: pam_unix(dovecot:auth): authentication failure; logname= uid=0 euid=0 tty=dovecot ruser=daryl rhost=127.0.0.1  user=daryl\\nns0__user.name: ', '\\nrdfs__label: \\nns0__pname: CRON\\nns0__msg: pam_unix(cron:session): session opened for user root by (uid=0)\\nns0__user.name: ']\n",
      "-----------------------------------\n",
      "\n",
      "Answer:\n",
      "\n",
      "Daryl is a user on the system who has experienced multiple authentication failures while attempting to authenticate with the dovecot service.\n"
     ]
    }
   ],
   "source": [
    "#log cell code 15\n",
    "response1 = query_agent(query1)\n",
    "print(\"Answer:\\n\")\n",
    "print(response1)"
   ]
  }
 ],
 "metadata": {
  "kernelspec": {
   "display_name": "multi-agents-rag-cykg",
   "language": "python",
   "name": "python3"
  },
  "language_info": {
   "codemirror_mode": {
    "name": "ipython",
    "version": 3
   },
   "file_extension": ".py",
   "mimetype": "text/x-python",
   "name": "python",
   "nbconvert_exporter": "python",
   "pygments_lexer": "ipython3",
   "version": "3.12.7"
  }
 },
 "nbformat": 4,
 "nbformat_minor": 5
}
