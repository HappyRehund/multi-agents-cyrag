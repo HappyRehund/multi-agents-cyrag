{
 "cells": [
  {
   "cell_type": "code",
   "execution_count": 6,
   "id": "a4f6f987",
   "metadata": {},
   "outputs": [],
   "source": [
    "import os\n",
    "from typing import List, Tuple\n",
    "from langchain_openai import ChatOpenAI, OpenAIEmbeddings\n",
    "from langchain_neo4j.vectorstores.neo4j_vector import Neo4jVector\n",
    "from langchain_neo4j.vectorstores.neo4j_vector import remove_lucene_chars\n",
    "from langchain_neo4j import Neo4jGraph\n",
    "from pydantic import BaseModel, Field\n",
    "from langchain_core.prompts import ChatPromptTemplate, PromptTemplate\n",
    "from langchain_core.messages import HumanMessage, AIMessage\n",
    "from langchain_core.runnables import RunnablePassthrough, RunnableLambda, RunnableBranch, RunnableParallel\n",
    "from langchain_core.output_parsers.string import StrOutputParser\n"
   ]
  },
  {
   "cell_type": "code",
   "execution_count": 7,
   "id": "cf206a61",
   "metadata": {},
   "outputs": [
    {
     "name": "stdout",
     "output_type": "stream",
     "text": [
      "neo4j\n"
     ]
    }
   ],
   "source": [
    "OPENAI_API_KEY = os.environ.get(\"OPENAI_API_KEY\")\n",
    "neo4j_uri = os.environ.get(\"NEO4J_AURA\")\n",
    "neo4j_username = os.environ.get(\"NEO4J_USERNAME\")\n",
    "neo4j_password = os.environ.get(\"NEO4J_PASSWORD\")\n",
    "neo4j_database = os.environ.get(\"NEO4J_DATABASE\")\n",
    "\n",
    "print(neo4j_database)"
   ]
  },
  {
   "cell_type": "code",
   "execution_count": 8,
   "id": "6c97ce40",
   "metadata": {},
   "outputs": [],
   "source": [
    "graph = Neo4jGraph(\n",
    "    url=neo4j_uri,\n",
    "    username=neo4j_username,\n",
    "    password=neo4j_password,\n",
    "    database=neo4j_database\n",
    ")\n",
    "llm = ChatOpenAI(temperature=0, model_name=\"gpt-4o\")\n",
    "embeddings = OpenAIEmbeddings()"
   ]
  },
  {
   "cell_type": "code",
   "execution_count": 9,
   "id": "2c9e4ef6",
   "metadata": {},
   "outputs": [
    {
     "name": "stdout",
     "output_type": "stream",
     "text": [
      "Node properties:\n",
      "Resource {uri: STRING, ns0__msg: STRING, ns0__contain: STRING, ns0__pid: STRING, ns0__pname: STRING, ns0__time: STRING, embedding: LIST, ns0__user.name: STRING, rdfs__label: STRING}\n",
      "_GraphConfig {_classLabel: STRING, _handleRDFTypes: INTEGER, _subClassOfRel: STRING, _handleMultival: INTEGER, _objectPropertyLabel: STRING, _rangeRel: STRING, _domainRel: STRING, _keepLangTag: BOOLEAN, _keepCustomDataTypes: BOOLEAN, _classNamePropName: STRING, _handleVocabUris: INTEGER, _applyNeo4jNaming: BOOLEAN, _relNamePropName: STRING, _dataTypePropertyLabel: STRING, _subPropertyOfRel: STRING}\n",
      "_NsPrefDef {ns0: STRING, rdfs: STRING, ns1: STRING}\n",
      "ns0__Event {uri: STRING, ns0__msg: STRING, ns0__contain: STRING, ns0__pid: STRING, ns0__pname: STRING, ns0__time: STRING, embedding: LIST}\n",
      "ns0__Host {uri: STRING, ns0__host: STRING}\n",
      "ns0__User {uri: STRING, ns0__user.name: STRING, embedding: LIST}\n",
      "ns0__Source {uri: STRING, rdfs__label: STRING, embedding: LIST}\n",
      "ns0__SourceType {uri: STRING, rdfs__label: STRING, embedding: LIST}\n",
      "ns0__Format {uri: STRING, rdfs__label: STRING, embedding: LIST}\n",
      "Relationship properties:\n",
      "\n",
      "The relationships:\n",
      "(:Resource)-[:ns1__template]->(:Resource)\n",
      "(:Resource)-[:ns0__hasSource]->(:Resource)\n",
      "(:Resource)-[:ns0__hasSource]->(:ns0__Source)\n",
      "(:Resource)-[:ns0__hasSourceHost]->(:Resource)\n",
      "(:Resource)-[:ns0__hasSourceHost]->(:ns0__Host)\n",
      "(:Resource)-[:ns0__hasUser]->(:Resource)\n",
      "(:Resource)-[:ns0__hasUser]->(:ns0__User)\n",
      "(:Resource)-[:ns0__hasSourceType]->(:Resource)\n",
      "(:Resource)-[:ns0__hasSourceType]->(:ns0__SourceType)\n",
      "(:Resource)-[:ns0__hasFormat]->(:Resource)\n",
      "(:Resource)-[:ns0__hasFormat]->(:ns0__Format)\n",
      "(:ns0__Event)-[:ns1__template]->(:Resource)\n",
      "(:ns0__Event)-[:ns0__hasSource]->(:Resource)\n",
      "(:ns0__Event)-[:ns0__hasSource]->(:ns0__Source)\n",
      "(:ns0__Event)-[:ns0__hasSourceHost]->(:Resource)\n",
      "(:ns0__Event)-[:ns0__hasSourceHost]->(:ns0__Host)\n",
      "(:ns0__Event)-[:ns0__hasUser]->(:Resource)\n",
      "(:ns0__Event)-[:ns0__hasUser]->(:ns0__User)\n",
      "(:ns0__Source)-[:ns0__hasSourceType]->(:Resource)\n",
      "(:ns0__Source)-[:ns0__hasSourceType]->(:ns0__SourceType)\n",
      "(:ns0__SourceType)-[:ns0__hasFormat]->(:Resource)\n",
      "(:ns0__SourceType)-[:ns0__hasFormat]->(:ns0__Format)\n"
     ]
    }
   ],
   "source": [
    "print(graph.get_schema)"
   ]
  },
  {
   "cell_type": "code",
   "execution_count": 10,
   "id": "412cba12",
   "metadata": {},
   "outputs": [
    {
     "ename": "RateLimitError",
     "evalue": "Error code: 429 - {'error': {'message': 'You exceeded your current quota, please check your plan and billing details. For more information on this error, read the docs: https://platform.openai.com/docs/guides/error-codes/api-errors.', 'type': 'insufficient_quota', 'param': None, 'code': 'insufficient_quota'}}",
     "output_type": "error",
     "traceback": [
      "\u001b[31m---------------------------------------------------------------------------\u001b[39m",
      "\u001b[31mRateLimitError\u001b[39m                            Traceback (most recent call last)",
      "\u001b[36mCell\u001b[39m\u001b[36m \u001b[39m\u001b[32mIn[10]\u001b[39m\u001b[32m, line 1\u001b[39m\n\u001b[32m----> \u001b[39m\u001b[32m1\u001b[39m vector_index = \u001b[43mNeo4jVector\u001b[49m\u001b[43m.\u001b[49m\u001b[43mfrom_existing_graph\u001b[49m\u001b[43m(\u001b[49m\n\u001b[32m      2\u001b[39m \u001b[43m    \u001b[49m\u001b[43musername\u001b[49m\u001b[43m=\u001b[49m\u001b[43mneo4j_username\u001b[49m\u001b[43m,\u001b[49m\n\u001b[32m      3\u001b[39m \u001b[43m    \u001b[49m\u001b[43mpassword\u001b[49m\u001b[43m=\u001b[49m\u001b[43mneo4j_password\u001b[49m\u001b[43m,\u001b[49m\n\u001b[32m      4\u001b[39m \u001b[43m    \u001b[49m\u001b[43membedding\u001b[49m\u001b[43m=\u001b[49m\u001b[43membeddings\u001b[49m\u001b[43m,\u001b[49m\n\u001b[32m      5\u001b[39m \u001b[43m    \u001b[49m\u001b[43mnode_label\u001b[49m\u001b[43m=\u001b[49m\u001b[33;43m\"\u001b[39;49m\u001b[33;43mResource\u001b[39;49m\u001b[33;43m\"\u001b[39;49m\u001b[43m,\u001b[49m\n\u001b[32m      6\u001b[39m \u001b[43m    \u001b[49m\u001b[43mtext_node_properties\u001b[49m\u001b[43m=\u001b[49m\u001b[43m[\u001b[49m\n\u001b[32m      7\u001b[39m \u001b[43m        \u001b[49m\u001b[33;43m\"\u001b[39;49m\u001b[33;43mrdfs__label\u001b[39;49m\u001b[33;43m\"\u001b[39;49m\u001b[43m,\u001b[49m\u001b[43m \u001b[49m\n\u001b[32m      8\u001b[39m \u001b[43m        \u001b[49m\u001b[33;43m\"\u001b[39;49m\u001b[33;43mns0__pname\u001b[39;49m\u001b[33;43m\"\u001b[39;49m\u001b[43m,\u001b[49m\u001b[43m \u001b[49m\n\u001b[32m      9\u001b[39m \u001b[43m        \u001b[49m\u001b[33;43m\"\u001b[39;49m\u001b[33;43mns0__msg\u001b[39;49m\u001b[33;43m\"\u001b[39;49m\u001b[43m,\u001b[49m\u001b[43m \u001b[49m\n\u001b[32m     10\u001b[39m \u001b[43m        \u001b[49m\u001b[33;43m\"\u001b[39;49m\u001b[33;43mns0__user.name\u001b[39;49m\u001b[33;43m\"\u001b[39;49m\n\u001b[32m     11\u001b[39m \u001b[43m    \u001b[49m\u001b[43m]\u001b[49m\u001b[43m,\u001b[49m\n\u001b[32m     12\u001b[39m \u001b[43m    \u001b[49m\u001b[43membedding_node_property\u001b[49m\u001b[43m=\u001b[49m\u001b[33;43m\"\u001b[39;49m\u001b[33;43membedding\u001b[39;49m\u001b[33;43m\"\u001b[39;49m\u001b[43m,\u001b[49m\n\u001b[32m     13\u001b[39m \u001b[43m    \u001b[49m\u001b[43msearch_type\u001b[49m\u001b[43m=\u001b[49m\u001b[33;43m\"\u001b[39;49m\u001b[33;43mhybrid\u001b[39;49m\u001b[33;43m\"\u001b[39;49m\u001b[43m,\u001b[49m\n\u001b[32m     14\u001b[39m \u001b[43m    \u001b[49m\u001b[38;5;66;43;03m# Neo4j credentials (url, username, password) jika tidak diatur di environment variables\u001b[39;49;00m\n\u001b[32m     15\u001b[39m \u001b[43m)\u001b[49m\n",
      "\u001b[36mFile \u001b[39m\u001b[32md:\\Project\\multi-agents-rag-cykg\\.venv\\Lib\\site-packages\\langchain_neo4j\\vectorstores\\neo4j_vector.py:1185\u001b[39m, in \u001b[36mNeo4jVector.from_existing_graph\u001b[39m\u001b[34m(cls, embedding, node_label, embedding_node_property, text_node_properties, keyword_index_name, index_name, search_type, retrieval_query, **kwargs)\u001b[39m\n\u001b[32m   1175\u001b[39m \u001b[38;5;28;01mif\u001b[39;00m \u001b[38;5;129;01mnot\u001b[39;00m retrieval_query:\n\u001b[32m   1176\u001b[39m     retrieval_query = (\n\u001b[32m   1177\u001b[39m         \u001b[33mf\u001b[39m\u001b[33m\"\u001b[39m\u001b[33mRETURN reduce(str=\u001b[39m\u001b[33m'\u001b[39m\u001b[33m'\u001b[39m\u001b[33m, k IN \u001b[39m\u001b[38;5;132;01m{\u001b[39;00mtext_node_properties\u001b[38;5;132;01m}\u001b[39;00m\u001b[33m |\u001b[39m\u001b[33m\"\u001b[39m\n\u001b[32m   1178\u001b[39m         \u001b[33m\"\u001b[39m\u001b[33m str + \u001b[39m\u001b[33m'\u001b[39m\u001b[38;5;130;01m\\\\\u001b[39;00m\u001b[33mn\u001b[39m\u001b[33m'\u001b[39m\u001b[33m + k + \u001b[39m\u001b[33m'\u001b[39m\u001b[33m: \u001b[39m\u001b[33m'\u001b[39m\u001b[33m + coalesce(node[k], \u001b[39m\u001b[33m'\u001b[39m\u001b[33m'\u001b[39m\u001b[33m)) AS text, \u001b[39m\u001b[33m\"\u001b[39m\n\u001b[32m   (...)\u001b[39m\u001b[32m   1183\u001b[39m         + \u001b[33m\"\u001b[39m\u001b[33m} AS metadata, score\u001b[39m\u001b[33m\"\u001b[39m\n\u001b[32m   1184\u001b[39m     )\n\u001b[32m-> \u001b[39m\u001b[32m1185\u001b[39m store = \u001b[38;5;28;43mcls\u001b[39;49m\u001b[43m(\u001b[49m\n\u001b[32m   1186\u001b[39m \u001b[43m    \u001b[49m\u001b[43membedding\u001b[49m\u001b[43m=\u001b[49m\u001b[43membedding\u001b[49m\u001b[43m,\u001b[49m\n\u001b[32m   1187\u001b[39m \u001b[43m    \u001b[49m\u001b[43mindex_name\u001b[49m\u001b[43m=\u001b[49m\u001b[43mindex_name\u001b[49m\u001b[43m,\u001b[49m\n\u001b[32m   1188\u001b[39m \u001b[43m    \u001b[49m\u001b[43mkeyword_index_name\u001b[49m\u001b[43m=\u001b[49m\u001b[43mkeyword_index_name\u001b[49m\u001b[43m,\u001b[49m\n\u001b[32m   1189\u001b[39m \u001b[43m    \u001b[49m\u001b[43msearch_type\u001b[49m\u001b[43m=\u001b[49m\u001b[43msearch_type\u001b[49m\u001b[43m,\u001b[49m\n\u001b[32m   1190\u001b[39m \u001b[43m    \u001b[49m\u001b[43mretrieval_query\u001b[49m\u001b[43m=\u001b[49m\u001b[43mretrieval_query\u001b[49m\u001b[43m,\u001b[49m\n\u001b[32m   1191\u001b[39m \u001b[43m    \u001b[49m\u001b[43mnode_label\u001b[49m\u001b[43m=\u001b[49m\u001b[43mnode_label\u001b[49m\u001b[43m,\u001b[49m\n\u001b[32m   1192\u001b[39m \u001b[43m    \u001b[49m\u001b[43membedding_node_property\u001b[49m\u001b[43m=\u001b[49m\u001b[43membedding_node_property\u001b[49m\u001b[43m,\u001b[49m\n\u001b[32m   1193\u001b[39m \u001b[43m    \u001b[49m\u001b[43m*\u001b[49m\u001b[43m*\u001b[49m\u001b[43mkwargs\u001b[49m\u001b[43m,\u001b[49m\n\u001b[32m   1194\u001b[39m \u001b[43m\u001b[49m\u001b[43m)\u001b[49m\n\u001b[32m   1196\u001b[39m \u001b[38;5;66;03m# Check if the vector index already exists\u001b[39;00m\n\u001b[32m   1197\u001b[39m existing_index_info = store.retrieve_existing_index()\n",
      "\u001b[36mFile \u001b[39m\u001b[32md:\\Project\\multi-agents-rag-cykg\\.venv\\Lib\\site-packages\\langchain_neo4j\\vectorstores\\neo4j_vector.py:271\u001b[39m, in \u001b[36mNeo4jVector.__init__\u001b[39m\u001b[34m(self, embedding, search_type, username, password, url, keyword_index_name, database, index_name, node_label, embedding_node_property, text_node_property, distance_strategy, logger, pre_delete_collection, retrieval_query, relevance_score_fn, index_type, graph, embedding_dimension)\u001b[39m\n\u001b[32m    268\u001b[39m     \u001b[38;5;28mself\u001b[39m.embedding_dimension = embedding_dimension\n\u001b[32m    269\u001b[39m \u001b[38;5;28;01melse\u001b[39;00m:\n\u001b[32m    270\u001b[39m     \u001b[38;5;66;03m# Calculate embedding dimension\u001b[39;00m\n\u001b[32m--> \u001b[39m\u001b[32m271\u001b[39m     \u001b[38;5;28mself\u001b[39m.embedding_dimension = \u001b[38;5;28mlen\u001b[39m(\u001b[43membedding\u001b[49m\u001b[43m.\u001b[49m\u001b[43membed_query\u001b[49m\u001b[43m(\u001b[49m\u001b[33;43m\"\u001b[39;49m\u001b[33;43mfoo\u001b[39;49m\u001b[33;43m\"\u001b[39;49m\u001b[43m)\u001b[49m)\n\u001b[32m    273\u001b[39m \u001b[38;5;66;03m# Delete existing data if flagged\u001b[39;00m\n\u001b[32m    274\u001b[39m \u001b[38;5;28;01mif\u001b[39;00m pre_delete_collection:\n",
      "\u001b[36mFile \u001b[39m\u001b[32md:\\Project\\multi-agents-rag-cykg\\.venv\\Lib\\site-packages\\langchain_openai\\embeddings\\base.py:638\u001b[39m, in \u001b[36mOpenAIEmbeddings.embed_query\u001b[39m\u001b[34m(self, text, **kwargs)\u001b[39m\n\u001b[32m    628\u001b[39m \u001b[38;5;28;01mdef\u001b[39;00m\u001b[38;5;250m \u001b[39m\u001b[34membed_query\u001b[39m(\u001b[38;5;28mself\u001b[39m, text: \u001b[38;5;28mstr\u001b[39m, **kwargs: Any) -> \u001b[38;5;28mlist\u001b[39m[\u001b[38;5;28mfloat\u001b[39m]:\n\u001b[32m    629\u001b[39m \u001b[38;5;250m    \u001b[39m\u001b[33;03m\"\"\"Call out to OpenAI's embedding endpoint for embedding query text.\u001b[39;00m\n\u001b[32m    630\u001b[39m \n\u001b[32m    631\u001b[39m \u001b[33;03m    Args:\u001b[39;00m\n\u001b[32m   (...)\u001b[39m\u001b[32m    636\u001b[39m \u001b[33;03m        Embedding for the text.\u001b[39;00m\n\u001b[32m    637\u001b[39m \u001b[33;03m    \"\"\"\u001b[39;00m\n\u001b[32m--> \u001b[39m\u001b[32m638\u001b[39m     \u001b[38;5;28;01mreturn\u001b[39;00m \u001b[38;5;28;43mself\u001b[39;49m\u001b[43m.\u001b[49m\u001b[43membed_documents\u001b[49m\u001b[43m(\u001b[49m\u001b[43m[\u001b[49m\u001b[43mtext\u001b[49m\u001b[43m]\u001b[49m\u001b[43m,\u001b[49m\u001b[43m \u001b[49m\u001b[43m*\u001b[49m\u001b[43m*\u001b[49m\u001b[43mkwargs\u001b[49m\u001b[43m)\u001b[49m[\u001b[32m0\u001b[39m]\n",
      "\u001b[36mFile \u001b[39m\u001b[32md:\\Project\\multi-agents-rag-cykg\\.venv\\Lib\\site-packages\\langchain_openai\\embeddings\\base.py:590\u001b[39m, in \u001b[36mOpenAIEmbeddings.embed_documents\u001b[39m\u001b[34m(self, texts, chunk_size, **kwargs)\u001b[39m\n\u001b[32m    587\u001b[39m \u001b[38;5;66;03m# NOTE: to keep things simple, we assume the list may contain texts longer\u001b[39;00m\n\u001b[32m    588\u001b[39m \u001b[38;5;66;03m#       than the maximum context and use length-safe embedding function.\u001b[39;00m\n\u001b[32m    589\u001b[39m engine = cast(\u001b[38;5;28mstr\u001b[39m, \u001b[38;5;28mself\u001b[39m.deployment)\n\u001b[32m--> \u001b[39m\u001b[32m590\u001b[39m \u001b[38;5;28;01mreturn\u001b[39;00m \u001b[38;5;28;43mself\u001b[39;49m\u001b[43m.\u001b[49m\u001b[43m_get_len_safe_embeddings\u001b[49m\u001b[43m(\u001b[49m\n\u001b[32m    591\u001b[39m \u001b[43m    \u001b[49m\u001b[43mtexts\u001b[49m\u001b[43m,\u001b[49m\u001b[43m \u001b[49m\u001b[43mengine\u001b[49m\u001b[43m=\u001b[49m\u001b[43mengine\u001b[49m\u001b[43m,\u001b[49m\u001b[43m \u001b[49m\u001b[43mchunk_size\u001b[49m\u001b[43m=\u001b[49m\u001b[43mchunk_size\u001b[49m\u001b[43m,\u001b[49m\u001b[43m \u001b[49m\u001b[43m*\u001b[49m\u001b[43m*\u001b[49m\u001b[43mkwargs\u001b[49m\n\u001b[32m    592\u001b[39m \u001b[43m\u001b[49m\u001b[43m)\u001b[49m\n",
      "\u001b[36mFile \u001b[39m\u001b[32md:\\Project\\multi-agents-rag-cykg\\.venv\\Lib\\site-packages\\langchain_openai\\embeddings\\base.py:478\u001b[39m, in \u001b[36mOpenAIEmbeddings._get_len_safe_embeddings\u001b[39m\u001b[34m(self, texts, engine, chunk_size, **kwargs)\u001b[39m\n\u001b[32m    476\u001b[39m batched_embeddings: \u001b[38;5;28mlist\u001b[39m[\u001b[38;5;28mlist\u001b[39m[\u001b[38;5;28mfloat\u001b[39m]] = []\n\u001b[32m    477\u001b[39m \u001b[38;5;28;01mfor\u001b[39;00m i \u001b[38;5;129;01min\u001b[39;00m _iter:\n\u001b[32m--> \u001b[39m\u001b[32m478\u001b[39m     response = \u001b[38;5;28;43mself\u001b[39;49m\u001b[43m.\u001b[49m\u001b[43mclient\u001b[49m\u001b[43m.\u001b[49m\u001b[43mcreate\u001b[49m\u001b[43m(\u001b[49m\n\u001b[32m    479\u001b[39m \u001b[43m        \u001b[49m\u001b[38;5;28;43minput\u001b[39;49m\u001b[43m=\u001b[49m\u001b[43mtokens\u001b[49m\u001b[43m[\u001b[49m\u001b[43mi\u001b[49m\u001b[43m \u001b[49m\u001b[43m:\u001b[49m\u001b[43m \u001b[49m\u001b[43mi\u001b[49m\u001b[43m \u001b[49m\u001b[43m+\u001b[49m\u001b[43m \u001b[49m\u001b[43m_chunk_size\u001b[49m\u001b[43m]\u001b[49m\u001b[43m,\u001b[49m\u001b[43m \u001b[49m\u001b[43m*\u001b[49m\u001b[43m*\u001b[49m\u001b[43mclient_kwargs\u001b[49m\n\u001b[32m    480\u001b[39m \u001b[43m    \u001b[49m\u001b[43m)\u001b[49m\n\u001b[32m    481\u001b[39m     \u001b[38;5;28;01mif\u001b[39;00m \u001b[38;5;129;01mnot\u001b[39;00m \u001b[38;5;28misinstance\u001b[39m(response, \u001b[38;5;28mdict\u001b[39m):\n\u001b[32m    482\u001b[39m         response = response.model_dump()\n",
      "\u001b[36mFile \u001b[39m\u001b[32md:\\Project\\multi-agents-rag-cykg\\.venv\\Lib\\site-packages\\openai\\resources\\embeddings.py:129\u001b[39m, in \u001b[36mEmbeddings.create\u001b[39m\u001b[34m(self, input, model, dimensions, encoding_format, user, extra_headers, extra_query, extra_body, timeout)\u001b[39m\n\u001b[32m    123\u001b[39m             embedding.embedding = np.frombuffer(  \u001b[38;5;66;03m# type: ignore[no-untyped-call]\u001b[39;00m\n\u001b[32m    124\u001b[39m                 base64.b64decode(data), dtype=\u001b[33m\"\u001b[39m\u001b[33mfloat32\u001b[39m\u001b[33m\"\u001b[39m\n\u001b[32m    125\u001b[39m             ).tolist()\n\u001b[32m    127\u001b[39m     \u001b[38;5;28;01mreturn\u001b[39;00m obj\n\u001b[32m--> \u001b[39m\u001b[32m129\u001b[39m \u001b[38;5;28;01mreturn\u001b[39;00m \u001b[38;5;28;43mself\u001b[39;49m\u001b[43m.\u001b[49m\u001b[43m_post\u001b[49m\u001b[43m(\u001b[49m\n\u001b[32m    130\u001b[39m \u001b[43m    \u001b[49m\u001b[33;43m\"\u001b[39;49m\u001b[33;43m/embeddings\u001b[39;49m\u001b[33;43m\"\u001b[39;49m\u001b[43m,\u001b[49m\n\u001b[32m    131\u001b[39m \u001b[43m    \u001b[49m\u001b[43mbody\u001b[49m\u001b[43m=\u001b[49m\u001b[43mmaybe_transform\u001b[49m\u001b[43m(\u001b[49m\u001b[43mparams\u001b[49m\u001b[43m,\u001b[49m\u001b[43m \u001b[49m\u001b[43membedding_create_params\u001b[49m\u001b[43m.\u001b[49m\u001b[43mEmbeddingCreateParams\u001b[49m\u001b[43m)\u001b[49m\u001b[43m,\u001b[49m\n\u001b[32m    132\u001b[39m \u001b[43m    \u001b[49m\u001b[43moptions\u001b[49m\u001b[43m=\u001b[49m\u001b[43mmake_request_options\u001b[49m\u001b[43m(\u001b[49m\n\u001b[32m    133\u001b[39m \u001b[43m        \u001b[49m\u001b[43mextra_headers\u001b[49m\u001b[43m=\u001b[49m\u001b[43mextra_headers\u001b[49m\u001b[43m,\u001b[49m\n\u001b[32m    134\u001b[39m \u001b[43m        \u001b[49m\u001b[43mextra_query\u001b[49m\u001b[43m=\u001b[49m\u001b[43mextra_query\u001b[49m\u001b[43m,\u001b[49m\n\u001b[32m    135\u001b[39m \u001b[43m        \u001b[49m\u001b[43mextra_body\u001b[49m\u001b[43m=\u001b[49m\u001b[43mextra_body\u001b[49m\u001b[43m,\u001b[49m\n\u001b[32m    136\u001b[39m \u001b[43m        \u001b[49m\u001b[43mtimeout\u001b[49m\u001b[43m=\u001b[49m\u001b[43mtimeout\u001b[49m\u001b[43m,\u001b[49m\n\u001b[32m    137\u001b[39m \u001b[43m        \u001b[49m\u001b[43mpost_parser\u001b[49m\u001b[43m=\u001b[49m\u001b[43mparser\u001b[49m\u001b[43m,\u001b[49m\n\u001b[32m    138\u001b[39m \u001b[43m    \u001b[49m\u001b[43m)\u001b[49m\u001b[43m,\u001b[49m\n\u001b[32m    139\u001b[39m \u001b[43m    \u001b[49m\u001b[43mcast_to\u001b[49m\u001b[43m=\u001b[49m\u001b[43mCreateEmbeddingResponse\u001b[49m\u001b[43m,\u001b[49m\n\u001b[32m    140\u001b[39m \u001b[43m\u001b[49m\u001b[43m)\u001b[49m\n",
      "\u001b[36mFile \u001b[39m\u001b[32md:\\Project\\multi-agents-rag-cykg\\.venv\\Lib\\site-packages\\openai\\_base_client.py:1249\u001b[39m, in \u001b[36mSyncAPIClient.post\u001b[39m\u001b[34m(self, path, cast_to, body, options, files, stream, stream_cls)\u001b[39m\n\u001b[32m   1235\u001b[39m \u001b[38;5;28;01mdef\u001b[39;00m\u001b[38;5;250m \u001b[39m\u001b[34mpost\u001b[39m(\n\u001b[32m   1236\u001b[39m     \u001b[38;5;28mself\u001b[39m,\n\u001b[32m   1237\u001b[39m     path: \u001b[38;5;28mstr\u001b[39m,\n\u001b[32m   (...)\u001b[39m\u001b[32m   1244\u001b[39m     stream_cls: \u001b[38;5;28mtype\u001b[39m[_StreamT] | \u001b[38;5;28;01mNone\u001b[39;00m = \u001b[38;5;28;01mNone\u001b[39;00m,\n\u001b[32m   1245\u001b[39m ) -> ResponseT | _StreamT:\n\u001b[32m   1246\u001b[39m     opts = FinalRequestOptions.construct(\n\u001b[32m   1247\u001b[39m         method=\u001b[33m\"\u001b[39m\u001b[33mpost\u001b[39m\u001b[33m\"\u001b[39m, url=path, json_data=body, files=to_httpx_files(files), **options\n\u001b[32m   1248\u001b[39m     )\n\u001b[32m-> \u001b[39m\u001b[32m1249\u001b[39m     \u001b[38;5;28;01mreturn\u001b[39;00m cast(ResponseT, \u001b[38;5;28;43mself\u001b[39;49m\u001b[43m.\u001b[49m\u001b[43mrequest\u001b[49m\u001b[43m(\u001b[49m\u001b[43mcast_to\u001b[49m\u001b[43m,\u001b[49m\u001b[43m \u001b[49m\u001b[43mopts\u001b[49m\u001b[43m,\u001b[49m\u001b[43m \u001b[49m\u001b[43mstream\u001b[49m\u001b[43m=\u001b[49m\u001b[43mstream\u001b[49m\u001b[43m,\u001b[49m\u001b[43m \u001b[49m\u001b[43mstream_cls\u001b[49m\u001b[43m=\u001b[49m\u001b[43mstream_cls\u001b[49m\u001b[43m)\u001b[49m)\n",
      "\u001b[36mFile \u001b[39m\u001b[32md:\\Project\\multi-agents-rag-cykg\\.venv\\Lib\\site-packages\\openai\\_base_client.py:1037\u001b[39m, in \u001b[36mSyncAPIClient.request\u001b[39m\u001b[34m(self, cast_to, options, stream, stream_cls)\u001b[39m\n\u001b[32m   1034\u001b[39m             err.response.read()\n\u001b[32m   1036\u001b[39m         log.debug(\u001b[33m\"\u001b[39m\u001b[33mRe-raising status error\u001b[39m\u001b[33m\"\u001b[39m)\n\u001b[32m-> \u001b[39m\u001b[32m1037\u001b[39m         \u001b[38;5;28;01mraise\u001b[39;00m \u001b[38;5;28mself\u001b[39m._make_status_error_from_response(err.response) \u001b[38;5;28;01mfrom\u001b[39;00m\u001b[38;5;250m \u001b[39m\u001b[38;5;28;01mNone\u001b[39;00m\n\u001b[32m   1039\u001b[39m     \u001b[38;5;28;01mbreak\u001b[39;00m\n\u001b[32m   1041\u001b[39m \u001b[38;5;28;01massert\u001b[39;00m response \u001b[38;5;129;01mis\u001b[39;00m \u001b[38;5;129;01mnot\u001b[39;00m \u001b[38;5;28;01mNone\u001b[39;00m, \u001b[33m\"\u001b[39m\u001b[33mcould not resolve response (should never happen)\u001b[39m\u001b[33m\"\u001b[39m\n",
      "\u001b[31mRateLimitError\u001b[39m: Error code: 429 - {'error': {'message': 'You exceeded your current quota, please check your plan and billing details. For more information on this error, read the docs: https://platform.openai.com/docs/guides/error-codes/api-errors.', 'type': 'insufficient_quota', 'param': None, 'code': 'insufficient_quota'}}"
     ]
    }
   ],
   "source": [
    "vector_index = Neo4jVector.from_existing_graph(\n",
    "    username=neo4j_username,\n",
    "    password=neo4j_password,\n",
    "    embedding=embeddings,\n",
    "    node_label=\"Resource\",\n",
    "    text_node_properties=[\n",
    "        \"rdfs__label\", \n",
    "        \"ns0__pname\", \n",
    "        \"ns0__msg\", \n",
    "        \"ns0__user.name\"\n",
    "    ],\n",
    "    embedding_node_property=\"embedding\",\n",
    "    search_type=\"hybrid\",\n",
    "    # Neo4j credentials (url, username, password) jika tidak diatur di environment variables\n",
    ")"
   ]
  },
  {
   "cell_type": "code",
   "execution_count": 14,
   "id": "b2fda383",
   "metadata": {},
   "outputs": [],
   "source": [
    "class Entities(BaseModel):\n",
    "    \"\"\"Identifying information about resources.\"\"\"\n",
    "\n",
    "    names: List[str] = Field(\n",
    "        ...,\n",
    "        description=\"All the tactics, techniques, or software entities that \"\n",
    "        \"appear in the text\",\n",
    "    )\n",
    "    \n",
    "entity_prompt = ChatPromptTemplate.from_messages(\n",
    "    [\n",
    "        (\n",
    "            \"system\",\n",
    "            \"You are extracting user names, host names, or process names from the text.\",\n",
    "        ),\n",
    "        (\n",
    "            \"human\",\n",
    "            \"Use the given format to extract information from the following \"\n",
    "            \"input: {question}\",\n",
    "        ),\n",
    "    ]\n",
    ")\n",
    "\n",
    "entity_chain = entity_prompt | llm.with_structured_output(Entities) #Pokoknya buat entity extraction"
   ]
  },
  {
   "cell_type": "code",
   "execution_count": 57,
   "id": "e4e4646e",
   "metadata": {},
   "outputs": [],
   "source": [
    "def generate_full_text_query(input: str) -> str:\n",
    "    \"\"\"\n",
    "    Generate a full-text search query for a given input string.\n",
    "\n",
    "    This function constructs a query string suitable for a full-text search.\n",
    "    It processes the input string by splitting it into words and appending a\n",
    "    similarity threshold (~2 changed characters) to each word, then combines\n",
    "    them using the AND operator. Useful for mapping entities from user questions\n",
    "    to database values, and allows for some misspelings.\n",
    "    \"\"\"\n",
    "    full_text_query = \"\"\n",
    "    words = [el for el in remove_lucene_chars(input).split() if el]\n",
    "    for word in words[:-1]:\n",
    "        full_text_query += f\" {word}~2 AND\"\n",
    "    full_text_query += f\" {words[-1]}~2\"\n",
    "    return full_text_query.strip()\n",
    "\n",
    "\n",
    "def structured_retriever(question: str) -> str:\n",
    "    \"\"\"\n",
    "    Collects the neighborhood of resources mentioned\n",
    "    in the question\n",
    "    \"\"\"\n",
    "    result = \"\"\n",
    "    entities = entity_chain.invoke({\"question\": question})\n",
    "\n",
    "    print(f\"\\n--- Extracted Entities: {entities.names} ---\")\n",
    "\n",
    "    for entity in entities.names:\n",
    "        response = graph.query(\n",
    "            \"\"\"\n",
    "            MATCH (user:ns0__User)\n",
    "            WHERE toLower(user.`ns0__user.name`) CONTAINS toLower($entity)\n",
    "            MATCH (user)<-[:ns0__hasUser]-(event:ns0__Event)\n",
    "            RETURN \"User '\" + user.`ns0__user.name` + \"' performed action '\" + event.ns0__msg + \n",
    "                   \"' with process '\" + event.ns0__pname + \"' (PID: \" + event.ns0__pid + \") at time \" + event.ns0__time AS output\n",
    "            LIMIT 20\n",
    "            \"\"\",\n",
    "            {\"entity\": entity},\n",
    "        )\n",
    "        result += \"\\n\".join([el['output'] for el in response])\n",
    "    return result"
   ]
  },
  {
   "cell_type": "code",
   "execution_count": 40,
   "id": "6b50f6bd",
   "metadata": {},
   "outputs": [],
   "source": [
    "def hybrid_retriever(question: str):\n",
    "    \"\"\"Combines structured and unstructured data retrieval based on the question.\"\"\"\n",
    "    print(f\"Search query: {question}\")\n",
    "    structured_data = structured_retriever(question)\n",
    "\n",
    "    print(\"\\n--- Structured Data Retrieved ---\")\n",
    "    print(structured_data)\n",
    "    print(\"---------------------------------\\n\")\n",
    "\n",
    "    unstructured_data = [\n",
    "        el.page_content for el in vector_index.similarity_search(question)]\n",
    "\n",
    "    print(\"\\n--- Unstructured Data Retrieved ---\")\n",
    "    print(unstructured_data)\n",
    "    print(\"-----------------------------------\\n\")\n",
    "\n",
    "    final_data = f\"\"\"Structured data:\n",
    "    {structured_data}\n",
    "    Unstructured data:\n",
    "    {\"#Resource \". join(unstructured_data)}\n",
    "    \"\"\"\n",
    "    return final_data"
   ]
  },
  {
   "cell_type": "code",
   "execution_count": 41,
   "id": "673d5274",
   "metadata": {},
   "outputs": [],
   "source": [
    "_template = \"\"\"Given the following conversation and a follow up question, rephrase the follow up question to be a standalone question,\n",
    "in its original language.\n",
    "Chat History:\n",
    "{chat_history}\n",
    "Follow Up Input: {question}\n",
    "Standalone question:\"\"\"  \n",
    "CONDENSE_QUESTION_PROMPT = PromptTemplate.from_template(_template)"
   ]
  },
  {
   "cell_type": "code",
   "execution_count": 28,
   "id": "0fcbbf6d",
   "metadata": {},
   "outputs": [],
   "source": [
    "def _format_chat_history(chat_history: List[Tuple[str, str]]) -> List:\n",
    "    buffer = []\n",
    "    for human, ai in chat_history:\n",
    "        buffer.append(HumanMessage(content=human))\n",
    "        buffer.append(AIMessage(content=ai))\n",
    "    return buffer"
   ]
  },
  {
   "cell_type": "code",
   "execution_count": 29,
   "id": "cf527ecb",
   "metadata": {},
   "outputs": [],
   "source": [
    "_search_query = RunnableBranch(\n",
    "    # If input includes chat_history, we condense it with the follow-up question\n",
    "    (\n",
    "        RunnableLambda(lambda x: bool(x.get(\"chat_history\"))).with_config(\n",
    "            run_name=\"HasChatHistoryCheck\"\n",
    "        ),  # Condense follow-up question and chat into a standalone_question\n",
    "        RunnablePassthrough.assign(\n",
    "            chat_history=lambda x: _format_chat_history(x[\"chat_history\"])\n",
    "        )\n",
    "        | CONDENSE_QUESTION_PROMPT\n",
    "        | ChatOpenAI(temperature=0)\n",
    "        | StrOutputParser(),\n",
    "    ),\n",
    "    # Else, we have no chat history, so just pass through the question\n",
    "    RunnableLambda(lambda x : x[\"question\"]),\n",
    ")"
   ]
  },
  {
   "cell_type": "code",
   "execution_count": 30,
   "id": "7a6b90cc",
   "metadata": {},
   "outputs": [],
   "source": [
    "template = \"\"\"Answer the question based only on the following context:\n",
    "{context}\n",
    "\n",
    "Question: {question}\n",
    "Use natural language and be concise.\n",
    "Answer:\"\"\"\n",
    "prompt = ChatPromptTemplate.from_template(template)"
   ]
  },
  {
   "cell_type": "code",
   "execution_count": 31,
   "id": "ab29068b",
   "metadata": {},
   "outputs": [],
   "source": [
    "final_chain = (\n",
    "    RunnableParallel(\n",
    "        {\n",
    "            \"context\": _search_query | hybrid_retriever,\n",
    "            \"question\": RunnablePassthrough(),\n",
    "        }\n",
    "    )\n",
    "    | prompt\n",
    "    | llm\n",
    "    | StrOutputParser()\n",
    ")"
   ]
  },
  {
   "cell_type": "code",
   "execution_count": 32,
   "id": "4fe48833",
   "metadata": {},
   "outputs": [],
   "source": [
    "def query_agent(question: str) :\n",
    "    \"\"\"\n",
    "    Query the graph and vector index using a hybrid approach.\n",
    "    \"\"\"\n",
    "    return final_chain.invoke({\"question\": question})"
   ]
  },
  {
   "cell_type": "code",
   "execution_count": 56,
   "id": "61607455",
   "metadata": {},
   "outputs": [],
   "source": [
    "query1 = \"Who is daryl, and what does he do in system?\""
   ]
  },
  {
   "cell_type": "code",
   "execution_count": 58,
   "id": "4416ca86",
   "metadata": {},
   "outputs": [
    {
     "name": "stdout",
     "output_type": "stream",
     "text": [
      "Search query: Who is daryl, and what does he do in system?\n",
      "\n",
      "--- Extracted Entities: ['daryl'] ---\n",
      "\n",
      "--- Structured Data Retrieved ---\n",
      "User 'daryl' performed action 'pam_unix(dovecot:auth): authentication failure; logname= uid=0 euid=0 tty=dovecot ruser=daryl rhost=127.0.0.1  user=daryl' with process 'auth' (PID: ) at time 2021-03-05T07:28:23\n",
      "User 'daryl' performed action 'pam_unix(dovecot:auth): authentication failure; logname= uid=0 euid=0 tty=dovecot ruser=daryl rhost=127.0.0.1  user=daryl' with process 'auth' (PID: ) at time 2021-03-05T07:26:39\n",
      "User 'daryl' performed action 'pam_unix(dovecot:auth): authentication failure; logname= uid=0 euid=0 tty=dovecot ruser=daryl rhost=127.0.0.1  user=daryl' with process 'auth' (PID: ) at time 2021-03-05T07:27:44\n",
      "User 'daryl' performed action 'pam_unix(dovecot:auth): authentication failure; logname= uid=0 euid=0 tty=dovecot ruser=daryl rhost=127.0.0.1  user=daryl' with process 'auth' (PID: ) at time 2021-03-05T07:29:28\n",
      "User 'daryl' performed action 'pam_unix(dovecot:auth): authentication failure; logname= uid=0 euid=0 tty=dovecot ruser=daryl rhost=127.0.0.1  user=daryl' with process 'auth' (PID: ) at time 2021-03-05T07:27:44\n",
      "User 'daryl' performed action 'pam_unix(dovecot:auth): authentication failure; logname= uid=0 euid=0 tty=dovecot ruser=daryl rhost=127.0.0.1  user=daryl' with process 'auth' (PID: ) at time 2021-03-05T07:28:04\n",
      "User 'daryl' performed action 'pam_unix(dovecot:auth): authentication failure; logname= uid=0 euid=0 tty=dovecot ruser=daryl rhost=127.0.0.1  user=daryl' with process 'auth' (PID: ) at time 2021-03-05T07:29:10\n",
      "User 'daryl' performed action 'pam_unix(dovecot:auth): authentication failure; logname= uid=0 euid=0 tty=dovecot ruser=daryl rhost=127.0.0.1  user=daryl' with process 'auth' (PID: ) at time 2021-03-05T07:29:07\n",
      "User 'daryl' performed action 'pam_unix(dovecot:auth): authentication failure; logname= uid=0 euid=0 tty=dovecot ruser=daryl rhost=127.0.0.1  user=daryl' with process 'auth' (PID: ) at time 2021-03-05T07:25:48\n",
      "User 'daryl' performed action 'pam_unix(dovecot:auth): authentication failure; logname= uid=0 euid=0 tty=dovecot ruser=daryl rhost=127.0.0.1  user=daryl' with process 'auth' (PID: ) at time 2021-03-05T07:26:44\n",
      "User 'daryl' performed action 'pam_unix(dovecot:auth): authentication failure; logname= uid=0 euid=0 tty=dovecot ruser=daryl rhost=127.0.0.1  user=daryl' with process 'auth' (PID: ) at time 2021-03-05T07:26:52\n",
      "User 'daryl' performed action 'pam_unix(dovecot:auth): authentication failure; logname= uid=0 euid=0 tty=dovecot ruser=daryl rhost=127.0.0.1  user=daryl' with process 'auth' (PID: ) at time 2021-03-05T07:25:48\n",
      "User 'daryl' performed action 'pam_unix(dovecot:auth): authentication failure; logname= uid=0 euid=0 tty=dovecot ruser=daryl rhost=127.0.0.1  user=daryl' with process 'auth' (PID: ) at time 2021-03-05T07:28:23\n",
      "User 'daryl' performed action 'pam_unix(dovecot:auth): authentication failure; logname= uid=0 euid=0 tty=dovecot ruser=daryl rhost=127.0.0.1  user=daryl' with process 'auth' (PID: ) at time 2021-03-05T07:28:21\n",
      "User 'daryl' performed action 'pam_unix(dovecot:auth): authentication failure; logname= uid=0 euid=0 tty=dovecot ruser=daryl rhost=127.0.0.1  user=daryl' with process 'auth' (PID: ) at time 2021-03-05T07:29:26\n",
      "User 'daryl' performed action 'pam_unix(dovecot:auth): authentication failure; logname= uid=0 euid=0 tty=dovecot ruser=daryl rhost=127.0.0.1  user=daryl' with process 'auth' (PID: ) at time 2021-03-05T07:28:49\n",
      "User 'daryl' performed action 'pam_unix(dovecot:auth): authentication failure; logname= uid=0 euid=0 tty=dovecot ruser=daryl rhost=127.0.0.1  user=daryl' with process 'auth' (PID: ) at time 2021-03-05T07:27:44\n",
      "User 'daryl' performed action 'pam_unix(dovecot:auth): authentication failure; logname= uid=0 euid=0 tty=dovecot ruser=daryl rhost=127.0.0.1  user=daryl' with process 'auth' (PID: ) at time 2021-03-05T07:28:02\n",
      "User 'daryl' performed action 'pam_unix(dovecot:auth): authentication failure; logname= uid=0 euid=0 tty=dovecot ruser=daryl rhost=127.0.0.1  user=daryl' with process 'auth' (PID: ) at time 2021-03-05T07:28:41\n",
      "User 'daryl' performed action 'pam_unix(dovecot:auth): authentication failure; logname= uid=0 euid=0 tty=dovecot ruser=daryl rhost=127.0.0.1  user=daryl' with process 'auth' (PID: ) at time 2021-03-05T07:29:29\n",
      "---------------------------------\n",
      "\n",
      "\n",
      "--- Unstructured Data Retrieved ---\n",
      "['\\nrdfs__label: \\nns0__pname: auth\\nns0__msg: pam_unix(dovecot:auth): authentication failure; logname= uid=0 euid=0 tty=dovecot ruser=daryl rhost=127.0.0.1  user=daryl\\nns0__user.name: ', '\\nrdfs__label: \\nns0__pname: \\nns0__msg: \\nns0__user.name: daryl', '\\nrdfs__label: \\nns0__pname: auth\\nns0__msg: pam_unix(dovecot:auth): authentication failure; logname= uid=0 euid=0 tty=dovecot ruser=daryl rhost=127.0.0.1  user=daryl\\nns0__user.name: ', '\\nrdfs__label: \\nns0__pname: CRON\\nns0__msg: pam_unix(cron:session): session opened for user root by (uid=0)\\nns0__user.name: ']\n",
      "-----------------------------------\n",
      "\n",
      "Answer 1:\n",
      "\n",
      "Daryl is a user on the system who has experienced multiple authentication failures while attempting to authenticate with the Dovecot service.\n"
     ]
    }
   ],
   "source": [
    "response1 = query_agent(query1)\n",
    "print(\"Answer 1:\\n\")\n",
    "print(response1)"
   ]
  }
 ],
 "metadata": {
  "kernelspec": {
   "display_name": "multi-agents-rag-cykg",
   "language": "python",
   "name": "python3"
  },
  "language_info": {
   "codemirror_mode": {
    "name": "ipython",
    "version": 3
   },
   "file_extension": ".py",
   "mimetype": "text/x-python",
   "name": "python",
   "nbconvert_exporter": "python",
   "pygments_lexer": "ipython3",
   "version": "3.12.7"
  }
 },
 "nbformat": 4,
 "nbformat_minor": 5
}
