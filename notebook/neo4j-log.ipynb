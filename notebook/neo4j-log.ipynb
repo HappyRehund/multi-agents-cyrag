{
 "cells": [
  {
   "cell_type": "code",
   "execution_count": 15,
   "id": "a4f6f987",
   "metadata": {},
   "outputs": [],
   "source": [
    "#log cell code 1\n",
    "import os\n",
    "from typing import List, Tuple\n",
    "from langchain_openai import ChatOpenAI, OpenAIEmbeddings\n",
    "from langchain_neo4j.vectorstores.neo4j_vector import Neo4jVector\n",
    "from langchain_neo4j.vectorstores.neo4j_vector import remove_lucene_chars\n",
    "from langchain_neo4j import Neo4jGraph\n",
    "from pydantic import BaseModel, Field\n",
    "from langchain_core.prompts import ChatPromptTemplate, PromptTemplate\n",
    "from langchain_core.messages import HumanMessage, AIMessage\n",
    "from langchain_core.runnables import RunnablePassthrough, RunnableLambda, RunnableBranch, RunnableParallel\n",
    "from langchain_core.output_parsers.string import StrOutputParser\n",
    "from langchain_huggingface import HuggingFaceEmbeddings"
   ]
  },
  {
   "cell_type": "code",
   "execution_count": 16,
   "id": "cf206a61",
   "metadata": {},
   "outputs": [
    {
     "name": "stdout",
     "output_type": "stream",
     "text": [
      "neo4j neo4j+s://79145028.databases.neo4j.io neo4j ujlntHOo0EriMmGelWeqh7FaVpr4craydlioxDdxtTk neo4j\n"
     ]
    }
   ],
   "source": [
    "#log cell code 2\n",
    "OPENAI_API_KEY = os.environ.get(\"OPENAI_API_KEY\")\n",
    "neo4j_uri = os.environ.get(\"NEO4J_AURA\")\n",
    "neo4j_username = os.environ.get(\"NEO4J_AURA_USERNAME\")\n",
    "neo4j_password = os.environ.get(\"NEO4J_AURA_PASSWORD\")\n",
    "neo4j_database = os.environ.get(\"NEO4J_AURA_DATABASE\")\n",
    "\n",
    "print(neo4j_database, neo4j_uri, neo4j_username, neo4j_password, neo4j_database)"
   ]
  },
  {
   "cell_type": "code",
   "execution_count": 17,
   "id": "6c97ce40",
   "metadata": {},
   "outputs": [
    {
     "name": "stderr",
     "output_type": "stream",
     "text": [
      "d:\\Project\\multi-agents-rag-cykg\\.venv\\Lib\\site-packages\\tqdm\\auto.py:21: TqdmWarning: IProgress not found. Please update jupyter and ipywidgets. See https://ipywidgets.readthedocs.io/en/stable/user_install.html\n",
      "  from .autonotebook import tqdm as notebook_tqdm\n",
      "d:\\Project\\multi-agents-rag-cykg\\.venv\\Lib\\site-packages\\huggingface_hub\\file_download.py:143: UserWarning: `huggingface_hub` cache-system uses symlinks by default to efficiently store duplicated files but your machine does not support them in C:\\Users\\afwan\\.cache\\huggingface\\hub\\models--sentence-transformers--all-MiniLM-L6-v2. Caching files will still work but in a degraded version that might require more space on your disk. This warning can be disabled by setting the `HF_HUB_DISABLE_SYMLINKS_WARNING` environment variable. For more details, see https://huggingface.co/docs/huggingface_hub/how-to-cache#limitations.\n",
      "To support symlinks on Windows, you either need to activate Developer Mode or to run Python as an administrator. In order to activate developer mode, see this article: https://docs.microsoft.com/en-us/windows/apps/get-started/enable-your-device-for-development\n",
      "  warnings.warn(message)\n",
      "Xet Storage is enabled for this repo, but the 'hf_xet' package is not installed. Falling back to regular HTTP download. For better performance, install the package with: `pip install huggingface_hub[hf_xet]` or `pip install hf_xet`\n"
     ]
    }
   ],
   "source": [
    "#log cell code 3\n",
    "graph = Neo4jGraph(\n",
    "    url=neo4j_uri,\n",
    "    username=neo4j_username,\n",
    "    password=neo4j_password,\n",
    "    database=neo4j_database\n",
    ")\n",
    "llm = ChatOpenAI(temperature=0, model_name=\"gpt-4o\")\n",
    "\n",
    "VECTOR_INDEX_NAME = \"vector\"\n",
    "KEYWORD_INDEX_NAME = \"keyword\"\n",
    "\n",
    "model_name = \"sentence-transformers/all-MiniLM-L6-v2\"\n",
    "\n",
    "embeddings = HuggingFaceEmbeddings(model_name=model_name)"
   ]
  },
  {
   "cell_type": "code",
   "execution_count": 9,
   "id": "412cba12",
   "metadata": {},
   "outputs": [
    {
     "ename": "ValueError",
     "evalue": "The provided embedding function and vector index dimensions do not match.\nEmbedding function dimension: 1536\nVector index dimension: 384",
     "output_type": "error",
     "traceback": [
      "\u001b[31m---------------------------------------------------------------------------\u001b[39m",
      "\u001b[31mValueError\u001b[39m                                Traceback (most recent call last)",
      "\u001b[36mCell\u001b[39m\u001b[36m \u001b[39m\u001b[32mIn[9]\u001b[39m\u001b[32m, line 2\u001b[39m\n\u001b[32m      1\u001b[39m \u001b[38;5;66;03m#log cell code 4\u001b[39;00m\n\u001b[32m----> \u001b[39m\u001b[32m2\u001b[39m vector_index = \u001b[43mNeo4jVector\u001b[49m\u001b[43m.\u001b[49m\u001b[43mfrom_existing_index\u001b[49m\u001b[43m(\u001b[49m\n\u001b[32m      3\u001b[39m \u001b[43m    \u001b[49m\u001b[43mOpenAIEmbeddings\u001b[49m\u001b[43m(\u001b[49m\u001b[43m)\u001b[49m\u001b[43m,\u001b[49m\n\u001b[32m      4\u001b[39m \u001b[43m    \u001b[49m\u001b[43murl\u001b[49m\u001b[43m=\u001b[49m\u001b[43mneo4j_uri\u001b[49m\u001b[43m,\u001b[49m\n\u001b[32m      5\u001b[39m \u001b[43m    \u001b[49m\u001b[43musername\u001b[49m\u001b[43m=\u001b[49m\u001b[43mneo4j_username\u001b[49m\u001b[43m,\u001b[49m\n\u001b[32m      6\u001b[39m \u001b[43m    \u001b[49m\u001b[43mpassword\u001b[49m\u001b[43m=\u001b[49m\u001b[43mneo4j_password\u001b[49m\u001b[43m,\u001b[49m\n\u001b[32m      7\u001b[39m \u001b[43m    \u001b[49m\u001b[43mindex_name\u001b[49m\u001b[43m=\u001b[49m\u001b[43mVECTOR_INDEX_NAME\u001b[49m\u001b[43m,\u001b[49m\n\u001b[32m      8\u001b[39m \u001b[43m    \u001b[49m\u001b[43mkeyword_index_name\u001b[49m\u001b[43m=\u001b[49m\u001b[43mKEYWORD_INDEX_NAME\u001b[49m\u001b[43m,\u001b[49m\n\u001b[32m      9\u001b[39m \u001b[43m    \u001b[49m\u001b[43msearch_type\u001b[49m\u001b[43m=\u001b[49m\u001b[33;43m\"\u001b[39;49m\u001b[33;43mhybrid\u001b[39;49m\u001b[33;43m\"\u001b[39;49m\n\u001b[32m     10\u001b[39m \u001b[43m)\u001b[49m\n",
      "\u001b[36mFile \u001b[39m\u001b[32md:\\Project\\multi-agents-rag-cykg\\.venv\\Lib\\site-packages\\langchain_neo4j\\vectorstores\\neo4j_vector.py:1008\u001b[39m, in \u001b[36mNeo4jVector.from_existing_index\u001b[39m\u001b[34m(cls, embedding, index_name, search_type, keyword_index_name, embedding_dimension, **kwargs)\u001b[39m\n\u001b[32m   1006\u001b[39m \u001b[38;5;66;03m# Check if embedding function and vector index dimensions match\u001b[39;00m\n\u001b[32m   1007\u001b[39m \u001b[38;5;28;01mif\u001b[39;00m embedding_dimension \u001b[38;5;129;01mand\u001b[39;00m \u001b[38;5;129;01mnot\u001b[39;00m store.embedding_dimension == embedding_dimension:\n\u001b[32m-> \u001b[39m\u001b[32m1008\u001b[39m     \u001b[38;5;28;01mraise\u001b[39;00m \u001b[38;5;167;01mValueError\u001b[39;00m(\n\u001b[32m   1009\u001b[39m         \u001b[33m\"\u001b[39m\u001b[33mThe provided embedding function and vector index \u001b[39m\u001b[33m\"\u001b[39m\n\u001b[32m   1010\u001b[39m         \u001b[33m\"\u001b[39m\u001b[33mdimensions do not match.\u001b[39m\u001b[38;5;130;01m\\n\u001b[39;00m\u001b[33m\"\u001b[39m\n\u001b[32m   1011\u001b[39m         \u001b[33mf\u001b[39m\u001b[33m\"\u001b[39m\u001b[33mEmbedding function dimension: \u001b[39m\u001b[38;5;132;01m{\u001b[39;00mstore.embedding_dimension\u001b[38;5;132;01m}\u001b[39;00m\u001b[38;5;130;01m\\n\u001b[39;00m\u001b[33m\"\u001b[39m\n\u001b[32m   1012\u001b[39m         \u001b[33mf\u001b[39m\u001b[33m\"\u001b[39m\u001b[33mVector index dimension: \u001b[39m\u001b[38;5;132;01m{\u001b[39;00membedding_dimension\u001b[38;5;132;01m}\u001b[39;00m\u001b[33m\"\u001b[39m\n\u001b[32m   1013\u001b[39m     )\n\u001b[32m   1015\u001b[39m \u001b[38;5;28;01mif\u001b[39;00m search_type == SearchType.HYBRID:\n\u001b[32m   1016\u001b[39m     fts_node_label = store.retrieve_existing_fts_index()\n",
      "\u001b[31mValueError\u001b[39m: The provided embedding function and vector index dimensions do not match.\nEmbedding function dimension: 1536\nVector index dimension: 384"
     ]
    }
   ],
   "source": [
    "#log cell code 4\n",
    "vector_index = Neo4jVector.from_existing_index(\n",
    "    OpenAIEmbeddings(),\n",
    "    url=neo4j_uri,\n",
    "    username=neo4j_username,\n",
    "    password=neo4j_password,\n",
    "    index_name=VECTOR_INDEX_NAME,\n",
    "    keyword_index_name=KEYWORD_INDEX_NAME,\n",
    "    search_type=\"hybrid\"\n",
    ")"
   ]
  },
  {
   "cell_type": "code",
   "execution_count": null,
   "id": "afd5ac36",
   "metadata": {},
   "outputs": [],
   "source": [
    "query_text = \"Cari user yang gagal melakukan autentikasi\"\n",
    "results = vector_index.similarity_search(\n",
    "    query_text, \n",
    "    k=5\n",
    ")"
   ]
  },
  {
   "cell_type": "code",
   "execution_count": null,
   "id": "b2fda383",
   "metadata": {},
   "outputs": [],
   "source": [
    "#log cell code 5\n",
    "class Entities(BaseModel):\n",
    "    \"\"\"Identifying information about resources.\"\"\"\n",
    "\n",
    "    names: List[str] = Field(\n",
    "        ...,\n",
    "        description=\"All the tactics, techniques, or software entities that \"\n",
    "        \"appear in the text\",\n",
    "    )\n",
    "    \n",
    "entity_prompt = ChatPromptTemplate.from_messages(\n",
    "    [\n",
    "        (\n",
    "            \"system\",\n",
    "            \"You are extracting user names, host names, or process names from the text.\",\n",
    "        ),\n",
    "        (\n",
    "            \"human\",\n",
    "            \"Use the given format to extract information from the following \"\n",
    "            \"input: {question}\",\n",
    "        ),\n",
    "    ]\n",
    ")\n",
    "\n",
    "entity_chain = entity_prompt | llm.with_structured_output(Entities) #Pokoknya buat entity extraction"
   ]
  },
  {
   "cell_type": "code",
   "execution_count": 26,
   "id": "e4e4646e",
   "metadata": {},
   "outputs": [],
   "source": [
    "#log cell code 6\n",
    "def generate_full_text_query(input: str) -> str:\n",
    "    \"\"\"\n",
    "    Generate a full-text search query for a given input string.\n",
    "\n",
    "    This function constructs a query string suitable for a full-text search.\n",
    "    It processes the input string by splitting it into words and appending a\n",
    "    similarity threshold (~2 changed characters) to each word, then combines\n",
    "    them using the AND operator. Useful for mapping entities from user questions\n",
    "    to database values, and allows for some misspelings.\n",
    "    \"\"\"\n",
    "    full_text_query = \"\"\n",
    "    words = [el for el in remove_lucene_chars(input).split() if el]\n",
    "    for word in words[:-1]:\n",
    "        full_text_query += f\" {word}~2 AND\"\n",
    "    full_text_query += f\" {words[-1]}~2\"\n",
    "    return full_text_query.strip()\n",
    "\n",
    "\n",
    "def structured_retriever(question: str) -> str:\n",
    "    \"\"\"\n",
    "    Collects the neighborhood of resources mentioned\n",
    "    in the question\n",
    "    \"\"\"\n",
    "    result = \"\"\n",
    "    entities = entity_chain.invoke({\"question\": question})\n",
    "\n",
    "    print(f\"\\n--- Extracted Entities: {entities.names} ---\")\n",
    "\n",
    "    for entity in entities.names:\n",
    "        response = graph.query(\n",
    "            \"\"\"\n",
    "            MATCH (user:ns0__User)\n",
    "            WHERE toLower(user.`ns0__user.name`) CONTAINS toLower($entity)\n",
    "            MATCH (user)<-[:ns0__hasUser]-(event:ns0__Event)\n",
    "            RETURN \"User '\" + user.`ns0__user.name` + \"' performed action '\" + event.ns0__msg + \n",
    "                   \"' with process '\" + event.ns0__pname + \"' (PID: \" + event.ns0__pid + \") at time \" + event.ns0__time AS output\n",
    "            LIMIT 10\n",
    "            \"\"\",\n",
    "            {\"entity\": entity},\n",
    "        )\n",
    "        result += \"\\n\".join([el['output'] for el in response])\n",
    "    return result"
   ]
  },
  {
   "cell_type": "code",
   "execution_count": null,
   "id": "6b50f6bd",
   "metadata": {},
   "outputs": [],
   "source": [
    "#log cell code 7\n",
    "def hybrid_retriever(question: str):\n",
    "    \"\"\"Combines structured and unstructured data retrieval based on the question.\"\"\"\n",
    "    print(f\"Search query: {question}\")\n",
    "    structured_data = structured_retriever(question)\n",
    "\n",
    "    print(\"\\n--- Structured Data Retrieved ---\")\n",
    "    print(structured_data)\n",
    "    print(\"---------------------------------\\n\")\n",
    "\n",
    "    unstructured_data = [\n",
    "        el.page_content for el in vector_index.similarity_search(question)]\n",
    "\n",
    "    print(\"\\n--- Unstructured Data Retrieved ---\")\n",
    "    print(unstructured_data)\n",
    "    print(\"-----------------------------------\\n\")\n",
    "\n",
    "    final_data = f\"\"\"Structured data:\n",
    "    {structured_data}\n",
    "    Unstructured data:\n",
    "    {\"#Resource \". join(unstructured_data)}\n",
    "    \"\"\"\n",
    "    return final_data"
   ]
  },
  {
   "cell_type": "code",
   "execution_count": null,
   "id": "673d5274",
   "metadata": {},
   "outputs": [],
   "source": [
    "#log cell code 8\n",
    "_template = \"\"\"Given the following conversation and a follow up question, rephrase the follow up question to be a standalone question,\n",
    "in its original language.\n",
    "Chat History:\n",
    "{chat_history}\n",
    "Follow Up Input: {question}\n",
    "Standalone question:\"\"\"  \n",
    "CONDENSE_QUESTION_PROMPT = PromptTemplate.from_template(_template)"
   ]
  },
  {
   "cell_type": "code",
   "execution_count": null,
   "id": "0fcbbf6d",
   "metadata": {},
   "outputs": [],
   "source": [
    "#log cell code 9\n",
    "def _format_chat_history(chat_history: List[Tuple[str, str]]) -> List:\n",
    "    buffer = []\n",
    "    for human, ai in chat_history:\n",
    "        buffer.append(HumanMessage(content=human))\n",
    "        buffer.append(AIMessage(content=ai))\n",
    "    return buffer"
   ]
  },
  {
   "cell_type": "code",
   "execution_count": null,
   "id": "cf527ecb",
   "metadata": {},
   "outputs": [],
   "source": [
    "#log cell code 10\n",
    "_search_query = RunnableBranch(\n",
    "    # If input includes chat_history, we condense it with the follow-up question\n",
    "    (\n",
    "        RunnableLambda(lambda x: bool(x.get(\"chat_history\"))).with_config(\n",
    "            run_name=\"HasChatHistoryCheck\"\n",
    "        ),  # Condense follow-up question and chat into a standalone_question\n",
    "        RunnablePassthrough.assign(\n",
    "            chat_history=lambda x: _format_chat_history(x[\"chat_history\"])\n",
    "        )\n",
    "        | CONDENSE_QUESTION_PROMPT\n",
    "        | ChatOpenAI(temperature=0)\n",
    "        | StrOutputParser(),\n",
    "    ),\n",
    "    # Else, we have no chat history, so just pass through the question\n",
    "    RunnableLambda(lambda x : x[\"question\"]),\n",
    ")"
   ]
  },
  {
   "cell_type": "code",
   "execution_count": null,
   "id": "7a6b90cc",
   "metadata": {},
   "outputs": [],
   "source": [
    "#log cell code 11\n",
    "template = \"\"\"Answer the question based only on the following context:\n",
    "{context}\n",
    "\n",
    "Question: {question}\n",
    "Use natural language and be concise.\n",
    "Answer:\"\"\"\n",
    "prompt = ChatPromptTemplate.from_template(template)"
   ]
  },
  {
   "cell_type": "code",
   "execution_count": null,
   "id": "ab29068b",
   "metadata": {},
   "outputs": [],
   "source": [
    "#log cell code 12\n",
    "final_chain = (\n",
    "    RunnableParallel(\n",
    "        {\n",
    "            \"context\": _search_query | hybrid_retriever,\n",
    "            \"question\": RunnablePassthrough(),\n",
    "        }\n",
    "    )\n",
    "    | prompt\n",
    "    | llm\n",
    "    | StrOutputParser()\n",
    ")"
   ]
  },
  {
   "cell_type": "code",
   "execution_count": 27,
   "id": "4fe48833",
   "metadata": {},
   "outputs": [],
   "source": [
    "#log cell code 13\n",
    "def query_agent(question: str) :\n",
    "    \"\"\"\n",
    "    Query the graph and vector index using a hybrid approach.\n",
    "    \"\"\"\n",
    "    return final_chain.invoke({\"question\": question})"
   ]
  },
  {
   "cell_type": "code",
   "execution_count": 28,
   "id": "61607455",
   "metadata": {},
   "outputs": [],
   "source": [
    "#log cell code 14\n",
    "query1 = \"Who is daryl, and what does he do in system?\""
   ]
  },
  {
   "cell_type": "code",
   "execution_count": 30,
   "id": "4416ca86",
   "metadata": {},
   "outputs": [
    {
     "name": "stdout",
     "output_type": "stream",
     "text": [
      "Search query: Who is daryl, and what does he do in system?\n",
      "\n",
      "--- Extracted Entities: ['daryl'] ---\n",
      "\n",
      "--- Structured Data Retrieved ---\n",
      "User 'daryl' performed action 'pam_unix(dovecot:auth): authentication failure; logname= uid=0 euid=0 tty=dovecot ruser=daryl rhost=127.0.0.1  user=daryl' with process 'auth' (PID: ) at time 2021-03-05T07:28:23\n",
      "User 'daryl' performed action 'pam_unix(dovecot:auth): authentication failure; logname= uid=0 euid=0 tty=dovecot ruser=daryl rhost=127.0.0.1  user=daryl' with process 'auth' (PID: ) at time 2021-03-05T07:26:39\n",
      "User 'daryl' performed action 'pam_unix(dovecot:auth): authentication failure; logname= uid=0 euid=0 tty=dovecot ruser=daryl rhost=127.0.0.1  user=daryl' with process 'auth' (PID: ) at time 2021-03-05T07:27:44\n",
      "User 'daryl' performed action 'pam_unix(dovecot:auth): authentication failure; logname= uid=0 euid=0 tty=dovecot ruser=daryl rhost=127.0.0.1  user=daryl' with process 'auth' (PID: ) at time 2021-03-05T07:29:28\n",
      "User 'daryl' performed action 'pam_unix(dovecot:auth): authentication failure; logname= uid=0 euid=0 tty=dovecot ruser=daryl rhost=127.0.0.1  user=daryl' with process 'auth' (PID: ) at time 2021-03-05T07:27:44\n",
      "User 'daryl' performed action 'pam_unix(dovecot:auth): authentication failure; logname= uid=0 euid=0 tty=dovecot ruser=daryl rhost=127.0.0.1  user=daryl' with process 'auth' (PID: ) at time 2021-03-05T07:28:04\n",
      "User 'daryl' performed action 'pam_unix(dovecot:auth): authentication failure; logname= uid=0 euid=0 tty=dovecot ruser=daryl rhost=127.0.0.1  user=daryl' with process 'auth' (PID: ) at time 2021-03-05T07:29:10\n",
      "User 'daryl' performed action 'pam_unix(dovecot:auth): authentication failure; logname= uid=0 euid=0 tty=dovecot ruser=daryl rhost=127.0.0.1  user=daryl' with process 'auth' (PID: ) at time 2021-03-05T07:29:07\n",
      "User 'daryl' performed action 'pam_unix(dovecot:auth): authentication failure; logname= uid=0 euid=0 tty=dovecot ruser=daryl rhost=127.0.0.1  user=daryl' with process 'auth' (PID: ) at time 2021-03-05T07:25:48\n",
      "User 'daryl' performed action 'pam_unix(dovecot:auth): authentication failure; logname= uid=0 euid=0 tty=dovecot ruser=daryl rhost=127.0.0.1  user=daryl' with process 'auth' (PID: ) at time 2021-03-05T07:26:44\n",
      "---------------------------------\n",
      "\n",
      "\n",
      "--- Unstructured Data Retrieved ---\n",
      "['\\nrdfs__label: \\nns0__pname: auth\\nns0__msg: pam_unix(dovecot:auth): authentication failure; logname= uid=0 euid=0 tty=dovecot ruser=daryl rhost=127.0.0.1  user=daryl\\nns0__user.name: ', '\\nrdfs__label: \\nns0__pname: \\nns0__msg: \\nns0__user.name: daryl', '\\nrdfs__label: \\nns0__pname: auth\\nns0__msg: pam_unix(dovecot:auth): authentication failure; logname= uid=0 euid=0 tty=dovecot ruser=daryl rhost=127.0.0.1  user=daryl\\nns0__user.name: ', '\\nrdfs__label: \\nns0__pname: CRON\\nns0__msg: pam_unix(cron:session): session opened for user root by (uid=0)\\nns0__user.name: ']\n",
      "-----------------------------------\n",
      "\n",
      "Answer:\n",
      "\n",
      "Daryl is a user on the system who has experienced multiple authentication failures while attempting to authenticate with the dovecot service.\n"
     ]
    }
   ],
   "source": [
    "#log cell code 15\n",
    "response1 = query_agent(query1)\n",
    "print(\"Answer:\\n\")\n",
    "print(response1)"
   ]
  }
 ],
 "metadata": {
  "kernelspec": {
   "display_name": "multi-agents-rag-cykg",
   "language": "python",
   "name": "python3"
  },
  "language_info": {
   "codemirror_mode": {
    "name": "ipython",
    "version": 3
   },
   "file_extension": ".py",
   "mimetype": "text/x-python",
   "name": "python",
   "nbconvert_exporter": "python",
   "pygments_lexer": "ipython3",
   "version": "3.12.7"
  }
 },
 "nbformat": 4,
 "nbformat_minor": 5
}
