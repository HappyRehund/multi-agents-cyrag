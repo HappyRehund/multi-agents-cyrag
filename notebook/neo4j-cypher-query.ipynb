{
 "cells": [
  {
   "cell_type": "code",
   "execution_count": 1,
   "id": "8e4404f9",
   "metadata": {},
   "outputs": [],
   "source": [
    "from langchain_neo4j.chains.graph_qa.cypher import GraphCypherQAChain\n",
    "from langchain_openai import ChatOpenAI, OpenAIEmbeddings\n",
    "from langchain_neo4j.vectorstores.neo4j_vector import Neo4jVector\n",
    "\n",
    "import os"
   ]
  },
  {
   "cell_type": "markdown",
   "id": "7205bc86",
   "metadata": {},
   "source": [
    "## Init OPENAI_API_KEY"
   ]
  },
  {
   "cell_type": "code",
   "execution_count": 2,
   "id": "18514467",
   "metadata": {},
   "outputs": [],
   "source": [
    "OPENAI_API_KEY = os.environ.get(\"OPENAI_API_KEY\")\n",
    "llm = ChatOpenAI(\n",
    "    model=\"gpt-4o\",\n",
    "    temperature=0,\n",
    "    api_key=OPENAI_API_KEY\n",
    ")"
   ]
  },
  {
   "cell_type": "markdown",
   "id": "e75e0aa6",
   "metadata": {},
   "source": [
    "## Init NEO4J Database"
   ]
  },
  {
   "cell_type": "code",
   "execution_count": 3,
   "id": "729d361f",
   "metadata": {},
   "outputs": [
    {
     "name": "stdout",
     "output_type": "stream",
     "text": [
      "bolt://localhost:7687 neo4j attackmitreics\n"
     ]
    }
   ],
   "source": [
    "neo4j_uri = os.environ.get(\"NEO4J_URI\")\n",
    "neo4j_username = os.environ.get(\"NEO4J_USERNAME\")\n",
    "neo4j_password = os.environ.get(\"NEO4J_PASSWORD_ICS\")\n",
    "\n",
    "print(neo4j_uri, neo4j_username, neo4j_password)"
   ]
  },
  {
   "cell_type": "code",
   "execution_count": null,
   "id": "a1b83d0f",
   "metadata": {},
   "outputs": [],
   "source": [
    "from langchain_neo4j import Neo4jGraph\n",
    "graph = Neo4jGraph(\n",
    "    url=neo4j_uri,\n",
    "    username=neo4j_username,\n",
    "    password=neo4j_password\n",
    ")"
   ]
  },
  {
   "cell_type": "code",
   "execution_count": 6,
   "id": "1be6f84b",
   "metadata": {},
   "outputs": [],
   "source": [
    "schema_raw = graph.get_schema"
   ]
  },
  {
   "cell_type": "markdown",
   "id": "4cb06ee7",
   "metadata": {},
   "source": [
    "## Cyper Generation Template"
   ]
  },
  {
   "cell_type": "code",
   "execution_count": 7,
   "id": "4c28e2ab",
   "metadata": {},
   "outputs": [],
   "source": [
    "cypher_generation_template = \"\"\"\n",
    "You are an expert Neo4j Cypher translator who converts English to Cypher based on the Neo4j Schema provided, following the instructions below:\n",
    "        1. Generate Cypher query compatible ONLY for Neo4j Version 5\n",
    "        2. Do not use EXISTS, SIZE, HAVING keywords in the cypher. Use alias when using the WITH keyword\n",
    "        3. Use only Nodes and relationships mentioned in the schema\n",
    "        5. Never use relationships that are not mentioned in the given schema\n",
    "        6. For all node labels and relationship types, add namespace prefix `ns0__` before the actual label or relationship type. E.g., `MATCH (n:ns0__NodeLabel)-[:ns0__RelationshipType]->(m:ns0__NodeLabel)`.\n",
    "        7. Node properties with `created`, `description`, `identifier`, `modified`, `title` and `version`, add prefix `ns1__` instead. E.g., `MATCH (n:ns0__NodeLabel) RETURN n.ns1__title AS Title`.\n",
    "        8. Always do a case-insensitive and fuzzy search for any properties related search. Eg: to search for a Tactic, use `toLower(Tactic.ns1__title) contains 'persistence'`.\n",
    "        9. Always assign a meaningful name to every node and relationship in the MATCH clause\n",
    "        10. Never return components not explicitly named in the MATCH clause.\n",
    "        11. In the RETURN clause, include all named components (nodes, relationships, or properties) to ensure consistency and understanding.\n",
    "        12. Always return all the nodes used in the MATCH clause to provide complete information to the user.\n",
    "        13. When counting distinct items that come from an `OPTIONAL MATCH`, prefer to `collect()` them first and then use `size()` on the collected list to avoid warnings about null values. For example, instead of `count(DISTINCT optional_item)`, use `WITH main_node, collect(DISTINCT optional_item) AS items` and then in the `RETURN` clause use `size(items) AS itemCount`.\n",
    "        14. To create unique pairs of nodes for comparison (e.g., for similarity calculations), use the `elementId()` function instead of the deprecated `id()` function. For example: `WHERE elementId(node1) < elementId(node2)`.\n",
    "        15. use `toLower()` function to ensure case-insensitive comparisons for string properties.\n",
    "\n",
    "Schema:\n",
    "{schema}\n",
    "\n",
    "Note: \n",
    "Do not include any explanations or apologies in your responses.\n",
    "Do not respond to any questions that might ask anything other than\n",
    "for you to construct a Cypher statement. Do not include any text except\n",
    "the generated Cypher statement. Make sure the direction of the relationship is\n",
    "correct in your queries. Make sure you alias both entities and relationships\n",
    "properly. Do not run any queries that would add to or delete from\n",
    "the database. Make sure to alias all statements that follow as with\n",
    "statement\n",
    "\n",
    "In Cypher, you can alias nodes and relationships, but not entire pattern matches using AS directly after a MATCH clause.If you want to alias entire patterns or results of more complex expressions, that should be done in the RETURN clause, not the MATCH clause.\n",
    "If you want to include any specific properties from these nodes in your results, you can add them to your RETURN statement.\n",
    "\n",
    "Examples : \n",
    "\n",
    "1. Which techniques are commonly used by at least 3 different threat groups?\n",
    "MATCH (g:ns0__Group)-[:ns0__usesTechnique]->(t:ns0__Technique)\n",
    "WITH t, count(g) as groupCount\n",
    "WHERE groupCount >= 3\n",
    "MATCH (g:ns0__Group)-[:ns0__usesTechnique]->(t)\n",
    "RETURN t.ns1__title as CommonTechnique, t.ns1__identifier as TechniqueID, \n",
    "       groupCount as NumberOfGroups,\n",
    "       collect(g.ns1__title) as Groups\n",
    "ORDER BY groupCount DESC\n",
    "\n",
    "2. Find tactical areas where we have the most significant defensive gaps by identifying tactics that have many techniques but few mitigations, and rank them by coverage percentage!\n",
    "\n",
    "MATCH (tactic:ns0__Tactic)<-[:ns0__accomplishesTactic]-(technique:ns0__Technique)\n",
    "WITH tactic, collect(technique) as techniques, count(technique) as techniqueCount\n",
    "UNWIND techniques as technique\n",
    "OPTIONAL MATCH (mitigation:ns0__Mitigation)-[:ns0__preventsTechnique]->(technique)\n",
    "WITH tactic, techniqueCount, technique, count(mitigation) > 0 as hasMitigation\n",
    "\n",
    "WITH tactic, techniqueCount, \n",
    "     sum(CASE WHEN hasMitigation THEN 1 ELSE 0 END) as mitigatedTechniques,\n",
    "     collect(CASE WHEN NOT hasMitigation THEN technique.ns1__title ELSE NULL END) as unmitigatedTechniques\n",
    "\n",
    "WITH tactic, techniqueCount, mitigatedTechniques,\n",
    "     [x IN unmitigatedTechniques WHERE x IS NOT NULL] as filteredUnmitigatedTechniques,\n",
    "     (toFloat(mitigatedTechniques) / techniqueCount * 100) as coveragePercentage\n",
    "\n",
    "RETURN tactic.ns1__title as Tactic,\n",
    "       tactic.ns1__identifier as TacticID,\n",
    "       techniqueCount as TotalTechniques,\n",
    "       mitigatedTechniques as MitigatedTechniques,\n",
    "       techniqueCount - mitigatedTechniques as UnmitigatedTechniqueCount,\n",
    "       toInteger(coveragePercentage) as CoveragePercentage,\n",
    "       CASE \n",
    "         WHEN coveragePercentage < 30 THEN \"CRITICAL\" \n",
    "         WHEN coveragePercentage < 60 THEN \"HIGH\" \n",
    "         WHEN coveragePercentage < 80 THEN \"MEDIUM\"\n",
    "         ELSE \"LOW\"\n",
    "       END as RiskLevel,\n",
    "       filteredUnmitigatedTechniques as UnmitigatedTechniques\n",
    "ORDER BY coveragePercentage ASC, techniqueCount DESC\n",
    "\n",
    "\n",
    "The question is:\n",
    "{question}\n",
    "\n",
    "\"\"\""
   ]
  },
  {
   "cell_type": "code",
   "execution_count": 8,
   "id": "ecd9a982",
   "metadata": {},
   "outputs": [],
   "source": [
    "from langchain.prompts import PromptTemplate\n",
    "# from langchain.prompts.prompt import PromptTemplate\n",
    "cyper_generation_prompt = PromptTemplate(\n",
    "    template=cypher_generation_template,\n",
    "    input_variables=[\"schema\",\"question\"]\n",
    ")\n"
   ]
  },
  {
   "cell_type": "code",
   "execution_count": 9,
   "id": "c5b2a6a4",
   "metadata": {},
   "outputs": [],
   "source": [
    "qa_template = \"\"\"\n",
    "You are an assistant that takes the results from a Neo4j Cypher query and forms a human-readable response. The query results section contains the results of a Cypher query that was generated based on a user's natural language question. The provided information is authoritative; you must never question it or use your internal knowledge to alter it. Make the answer sound like a response to the question.\n",
    "Final answer should be easily readable and structured.\n",
    "Query Results:\n",
    "{context}\n",
    "\n",
    "Question: {question}\n",
    "If the provided information is empty, respond by stating that you don't know the answer. Empty information is indicated by: []\n",
    "If the information is not empty, you must provide an answer using the results. If the question involves a time duration, assume the query results are in units of days unless specified otherwise.\n",
    "Never state that you lack sufficient information if data is present in the query results. Always utilize the data provided.\n",
    "Helpful Answer:\n",
    "\"\"\""
   ]
  },
  {
   "cell_type": "code",
   "execution_count": 10,
   "id": "06f6540f",
   "metadata": {},
   "outputs": [],
   "source": [
    "qa_generation_prompt = PromptTemplate(\n",
    "    template=qa_template,\n",
    "    input_variables=[\"context\", \"question\"]\n",
    ")"
   ]
  },
  {
   "cell_type": "markdown",
   "id": "e1e9939c",
   "metadata": {},
   "source": [
    "## QA Chain"
   ]
  },
  {
   "cell_type": "code",
   "execution_count": 9,
   "id": "0b21d863",
   "metadata": {},
   "outputs": [],
   "source": [
    "cypher_chain = GraphCypherQAChain.from_llm(\n",
    "    top_k=10,\n",
    "    graph=graph,\n",
    "    verbose=True,\n",
    "    validate_cypher=True,\n",
    "    return_intermediate_steps=True,\n",
    "    cypher_prompt=cyper_generation_prompt,\n",
    "    qa_prompt=qa_generation_prompt,\n",
    "    qa_llm=ChatOpenAI(model=\"gpt-3.5-turbo\", temperature=0),\n",
    "    cypher_llm=ChatOpenAI(model=\"gpt-4o-mini\", temperature=0),\n",
    "    allow_dangerous_requests=True,\n",
    "    use_function_response=True\n",
    ")\n",
    "\n",
    "def query_cypher(question: str):\n",
    "    \"\"\"\n",
    "    Function to query the cypher chain with a question.\n",
    "    \"\"\"\n",
    "    response = cypher_chain.invoke(question)\n",
    "    return response"
   ]
  },
  {
   "cell_type": "code",
   "execution_count": 10,
   "id": "2380be52",
   "metadata": {},
   "outputs": [
    {
     "name": "stdout",
     "output_type": "stream",
     "text": [
      "\n",
      "\n",
      "\u001b[1m> Entering new GraphCypherQAChain chain...\u001b[0m\n",
      "Generated Cypher:\n",
      "\u001b[32;1m\u001b[1;3mMATCH (technique:ns0__Technique)\n",
      "WHERE toLower(technique.ns1__title) contains 'sql injection'\n",
      "RETURN technique.ns1__title AS TechniqueTitle, technique.ns1__description AS TechniqueDescription\u001b[0m\n",
      "Full Context:\n",
      "\u001b[32;1m\u001b[1;3m[]\u001b[0m\n",
      "\n",
      "\u001b[1m> Finished chain.\u001b[0m\n"
     ]
    }
   ],
   "source": [
    "question1 = \"Show me all techniques related to 'SQL Injection' and their descriptions.\"\n",
    "response = query_cypher(question1)"
   ]
  },
  {
   "cell_type": "code",
   "execution_count": 21,
   "id": "40bc6c2f",
   "metadata": {},
   "outputs": [
    {
     "name": "stdout",
     "output_type": "stream",
     "text": [
      "\n",
      "\n",
      "\u001b[1m> Entering new GraphCypherQAChain chain...\u001b[0m\n",
      "Generated Cypher:\n",
      "\u001b[32;1m\u001b[1;3mcypher\n",
      "MATCH (group1:ns0__Group)-[:ns0__usesTechnique]->(technique:ns0__Technique)<-[:ns0__usesTechnique]-(group2:ns0__Group)\n",
      "WHERE elementId(group1) < elementId(group2)\n",
      "WITH group1, group2, collect(technique) AS sharedTechniques\n",
      "MATCH (group1)-[:ns0__usesTechnique]->(technique1:ns0__Technique)\n",
      "WITH group1, group2, sharedTechniques, collect(technique1) AS group1Techniques\n",
      "MATCH (group2)-[:ns0__usesTechnique]->(technique2:ns0__Technique)\n",
      "WITH group1, group2, sharedTechniques, group1Techniques, collect(technique2) AS group2Techniques\n",
      "\n",
      "WITH group1, group2, size(sharedTechniques) AS intersectionSize, \n",
      "     size(group1Techniques) + size(group2Techniques) - size(sharedTechniques) AS unionSize\n",
      "\n",
      "WITH group1, group2, \n",
      "     CASE WHEN unionSize > 0 THEN toFloat(intersectionSize) / unionSize ELSE 0 END AS jaccardSimilarity\n",
      "\n",
      "RETURN group1.ns1__title AS Group1, \n",
      "       group2.ns1__title AS Group2, \n",
      "       jaccardSimilarity AS SimilarityScore\n",
      "ORDER BY jaccardSimilarity DESC\n",
      "\u001b[0m\n",
      "Full Context:\n",
      "\u001b[32;1m\u001b[1;3m[{'Group1': 'ALLANITE', 'Group2': 'OilRig', 'SimilarityScore': 0.5}, {'Group1': 'TEMP.Veles', 'Group2': 'Dragonfly', 'SimilarityScore': 0.5}, {'Group1': 'APT33', 'Group2': 'ALLANITE', 'SimilarityScore': 0.4}, {'Group1': 'Lazarus Group', 'Group2': 'APT33', 'SimilarityScore': 0.3333333333333333}, {'Group1': 'APT33', 'Group2': 'OilRig', 'SimilarityScore': 0.3333333333333333}, {'Group1': 'TEMP.Veles', 'Group2': 'ALLANITE', 'SimilarityScore': 0.3333333333333333}, {'Group1': 'TEMP.Veles', 'Group2': 'OilRig', 'SimilarityScore': 0.2857142857142857}, {'Group1': 'Lazarus Group', 'Group2': 'ALLANITE', 'SimilarityScore': 0.25}, {'Group1': 'Lazarus Group', 'Group2': 'OilRig', 'SimilarityScore': 0.2}, {'Group1': 'Dragonfly', 'Group2': 'ALLANITE', 'SimilarityScore': 0.2}]\u001b[0m\n",
      "\n",
      "\u001b[1m> Finished chain.\u001b[0m\n"
     ]
    }
   ],
   "source": [
    "question2 = \"Find the pair of threat groups that have the most similar attack patterns by calculating the Jaccard similarity of the techniques they use. Show the two groups and their similarity score.\"\n",
    "response = query_cypher(question2)"
   ]
  },
  {
   "cell_type": "code",
   "execution_count": 13,
   "id": "d24882dd",
   "metadata": {},
   "outputs": [
    {
     "name": "stdout",
     "output_type": "stream",
     "text": [
      "\n",
      "\n",
      "\u001b[1m> Entering new GraphCypherQAChain chain...\u001b[0m\n"
     ]
    },
    {
     "name": "stderr",
     "output_type": "stream",
     "text": [
      "Received notification from DBMS server: {severity: WARNING} {code: Neo.ClientNotification.Statement.AggregationSkippedNull} {category: UNRECOGNIZED} {title: The query contains an aggregation function that skips null values.} {description: null value eliminated in set function.} {position: None} for query: 'cypher\\nMATCH (tactic:ns0__Tactic)<-[:ns0__accomplishesTactic]-(technique:ns0__Technique)\\n\\nOPTIONAL MATCH (mitigation:ns0__Mitigation)<-[:ns0__hasMitigation]-(technique)\\n\\nWITH tactic, collect(DISTINCT mitigation) AS uniqueMitigations\\n\\nRETURN tactic.ns1__title AS Tactic, \\n       tactic.ns1__identifier AS TacticID, \\n       size(uniqueMitigations) AS TotalUniqueMitigations\\n\\nORDER BY TotalUniqueMitigations DESC\\n'\n"
     ]
    },
    {
     "name": "stdout",
     "output_type": "stream",
     "text": [
      "Generated Cypher:\n",
      "\u001b[32;1m\u001b[1;3mcypher\n",
      "MATCH (tactic:ns0__Tactic)<-[:ns0__accomplishesTactic]-(technique:ns0__Technique)\n",
      "\n",
      "OPTIONAL MATCH (mitigation:ns0__Mitigation)<-[:ns0__hasMitigation]-(technique)\n",
      "\n",
      "WITH tactic, collect(DISTINCT mitigation) AS uniqueMitigations\n",
      "\n",
      "RETURN tactic.ns1__title AS Tactic, \n",
      "       tactic.ns1__identifier AS TacticID, \n",
      "       size(uniqueMitigations) AS TotalUniqueMitigations\n",
      "\n",
      "ORDER BY TotalUniqueMitigations DESC\n",
      "\u001b[0m\n",
      "Full Context:\n",
      "\u001b[32;1m\u001b[1;3m[{'Tactic': 'Initial Access', 'TacticID': 'TA0108', 'TotalUniqueMitigations': 32}, {'Tactic': 'Inhibit Response Function', 'TacticID': 'TA0107', 'TotalUniqueMitigations': 26}, {'Tactic': 'Lateral Movement', 'TacticID': 'TA0109', 'TotalUniqueMitigations': 24}, {'Tactic': 'Persistence', 'TacticID': 'TA0110', 'TotalUniqueMitigations': 22}, {'Tactic': 'Collection', 'TacticID': 'TA0100', 'TotalUniqueMitigations': 22}, {'Tactic': 'Execution', 'TacticID': 'TA0104', 'TotalUniqueMitigations': 18}, {'Tactic': 'Evasion', 'TacticID': 'TA0103', 'TotalUniqueMitigations': 16}, {'Tactic': 'Impair Process Control', 'TacticID': 'TA0106', 'TotalUniqueMitigations': 14}, {'Tactic': 'Impact', 'TacticID': 'TA0105', 'TotalUniqueMitigations': 11}, {'Tactic': 'Discovery', 'TacticID': 'TA0102', 'TotalUniqueMitigations': 7}]\u001b[0m\n",
      "\n",
      "\u001b[1m> Finished chain.\u001b[0m\n"
     ]
    }
   ],
   "source": [
    "question3 = \"Rank all tactics based on the total number of unique mitigations available for all techniques within that tactic. Show the tactic with the most mitigations first.\"\n",
    "response = cypher_chain.invoke(question3)"
   ]
  },
  {
   "cell_type": "code",
   "execution_count": 14,
   "id": "d0cde3b0",
   "metadata": {},
   "outputs": [
    {
     "name": "stdout",
     "output_type": "stream",
     "text": [
      "1. Initial Access: 32 unique mitigations\n",
      "2. Inhibit Response Function: 26 unique mitigations\n",
      "3. Lateral Movement: 24 unique mitigations\n",
      "4. Persistence: 22 unique mitigations\n",
      "5. Collection: 22 unique mitigations\n",
      "6. Execution: 18 unique mitigations\n",
      "7. Evasion: 16 unique mitigations\n",
      "8. Impair Process Control: 14 unique mitigations\n",
      "9. Impact: 11 unique mitigations\n",
      "10. Discovery: 7 unique mitigations\n"
     ]
    }
   ],
   "source": [
    "print(response.get(\"result\"))"
   ]
  }
 ],
 "metadata": {
  "kernelspec": {
   "display_name": "multi-agents-rag-cykg",
   "language": "python",
   "name": "python3"
  },
  "language_info": {
   "codemirror_mode": {
    "name": "ipython",
    "version": 3
   },
   "file_extension": ".py",
   "mimetype": "text/x-python",
   "name": "python",
   "nbconvert_exporter": "python",
   "pygments_lexer": "ipython3",
   "version": "3.12.7"
  }
 },
 "nbformat": 4,
 "nbformat_minor": 5
}
